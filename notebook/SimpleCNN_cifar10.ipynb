{
 "cells": [
  {
   "cell_type": "markdown",
   "metadata": {},
   "source": [
    "# Simple CNN for cifar10"
   ]
  },
  {
   "cell_type": "code",
   "execution_count": 42,
   "metadata": {
    "collapsed": false
   },
   "outputs": [
    {
     "name": "stdout",
     "output_type": "stream",
     "text": [
      "X_train shape: (50000L, 3L, 32L, 32L)\n",
      "Y_train shape: (50000L, 10L)\n",
      "50000 train samples\n",
      "10000 test samples\n"
     ]
    }
   ],
   "source": [
    "from __future__ import print_function\n",
    "from keras.datasets import cifar10\n",
    "\n",
    "\n",
    "\n",
    "from __future__ import print_function\n",
    "import numpy as np\n",
    "np.random.seed(1337)  # for reproducibility\n",
    "\n",
    "import os, sys, progressbar, argparse \n",
    "import commentjson as json\n",
    "\n",
    "from imutils import paths\n",
    "from skimage.io import imread\n",
    "import imageio\n",
    "import cv2\n",
    "\n",
    "from ipywidgets import interact, interactive, fixed\n",
    "import ipywidgets as widgets\n",
    "import matplotlib.pyplot as plt\n",
    "%matplotlib inline\n",
    "\n",
    "\n",
    "from sklearn.cross_validation import KFold\n",
    "from sklearn.utils import shuffle\n",
    "from sklearn.cross_validation import train_test_split\n",
    "\n",
    "\n",
    "from keras.datasets import mnist\n",
    "\n",
    "from keras.models import Sequential\n",
    "from keras.layers import Dense, Dropout, Activation, Flatten\n",
    "from keras.layers import Convolution2D, MaxPooling2D\n",
    "from keras.utils import np_utils\n",
    "from keras.optimizers import SGD\n",
    "from keras.optimizers import Adam\n",
    "from keras.utils import np_utils\n",
    "from keras.models import model_from_json\n",
    "from keras.preprocessing.image import ImageDataGenerator\n",
    "\n",
    "\n",
    "\n",
    "\n",
    "\n",
    "\n",
    "batch_size = 32\n",
    "nb_classes = 10\n",
    "nb_epoch = 30\n",
    "data_augmentation = True\n",
    "\n",
    "# input image dimensions\n",
    "img_rows, img_cols = 32, 32\n",
    "# the CIFAR10 images are RGB\n",
    "img_channels = 3\n",
    "\n",
    "# the data, shuffled and split between train and test sets\n",
    "(X_train, y_train), (X_test, y_test) = cifar10.load_data()\n",
    "print('X_train shape:', X_train.shape)\n",
    "print('Y_train shape:', Y_train.shape)\n",
    "print(X_train.shape[0], 'train samples')\n",
    "print(X_test.shape[0], 'test samples')\n",
    "\n",
    "# convert class vectors to binary class matrices\n",
    "Y_train = np_utils.to_categorical(y_train, nb_classes)\n",
    "Y_test = np_utils.to_categorical(y_test, nb_classes)"
   ]
  },
  {
   "cell_type": "code",
   "execution_count": 50,
   "metadata": {
    "collapsed": false
   },
   "outputs": [],
   "source": [
    "\n",
    "def simpleCNN(nb_classes, nb_filters,nb_conv,nb_pool,img_rows,img_cols,img_channels, Dense_Before_Out=520):\n",
    "    model = Sequential()\n",
    "    model.add(Convolution2D(nb_filters, nb_conv, nb_conv,\n",
    "                        border_mode='valid',\n",
    "                        input_shape=(img_channels, img_rows, img_cols)))\n",
    "    model.add(Activation('relu'))\n",
    "    model.add(Convolution2D(nb_filters, nb_conv, nb_conv))\n",
    "    model.add(Activation('relu'))\n",
    "    model.add(MaxPooling2D(pool_size=(nb_pool, nb_pool)))\n",
    "    model.add(Dropout(0.25))\n",
    "    model.add(Flatten())\n",
    "    \n",
    "    model.add(Dense(Dense_Before_Out,))\n",
    "    model.add(Activation('tanh'))\n",
    "    \n",
    "    model.add(Dropout(0.25))\n",
    "    model.add(Dense(Dense_Before_Out,))\n",
    "    model.add(Activation('tanh'))\n",
    "    \n",
    "    model.add(Dense(nb_classes))\n",
    "    model.add(Activation('softmax'))\n",
    "    #sgd = SGD(lr=1e-2, decay=1e-6, momentum=0.9, nesterov=True)\n",
    "    model.compile(loss='categorical_crossentropy',\n",
    "              optimizer='adadelta',\n",
    "              metrics=['accuracy'])\n",
    "    return model"
   ]
  },
  {
   "cell_type": "code",
   "execution_count": 51,
   "metadata": {
    "collapsed": false
   },
   "outputs": [
    {
     "name": "stdout",
     "output_type": "stream",
     "text": [
      "____________________________________________________________________________________________________\n",
      "Layer (type)                     Output Shape          Param #     Connected to                     \n",
      "====================================================================================================\n",
      "convolution2d_31 (Convolution2D) (None, 62, 30, 30)    1736        convolution2d_input_16[0][0]     \n",
      "____________________________________________________________________________________________________\n",
      "activation_62 (Activation)       (None, 62, 30, 30)    0           convolution2d_31[0][0]           \n",
      "____________________________________________________________________________________________________\n",
      "convolution2d_32 (Convolution2D) (None, 62, 28, 28)    34658       activation_62[0][0]              \n",
      "____________________________________________________________________________________________________\n",
      "activation_63 (Activation)       (None, 62, 28, 28)    0           convolution2d_32[0][0]           \n",
      "____________________________________________________________________________________________________\n",
      "maxpooling2d_16 (MaxPooling2D)   (None, 62, 14, 14)    0           activation_63[0][0]              \n",
      "____________________________________________________________________________________________________\n",
      "dropout_31 (Dropout)             (None, 62, 14, 14)    0           maxpooling2d_16[0][0]            \n",
      "____________________________________________________________________________________________________\n",
      "flatten_16 (Flatten)             (None, 12152)         0           dropout_31[0][0]                 \n",
      "____________________________________________________________________________________________________\n",
      "dense_32 (Dense)                 (None, 520)           6319560     flatten_16[0][0]                 \n",
      "____________________________________________________________________________________________________\n",
      "activation_64 (Activation)       (None, 520)           0           dense_32[0][0]                   \n",
      "____________________________________________________________________________________________________\n",
      "dropout_32 (Dropout)             (None, 520)           0           activation_64[0][0]              \n",
      "____________________________________________________________________________________________________\n",
      "dense_33 (Dense)                 (None, 520)           270920      dropout_32[0][0]                 \n",
      "____________________________________________________________________________________________________\n",
      "activation_65 (Activation)       (None, 520)           0           dense_33[0][0]                   \n",
      "____________________________________________________________________________________________________\n",
      "dense_34 (Dense)                 (None, 10)            5210        activation_65[0][0]              \n",
      "____________________________________________________________________________________________________\n",
      "activation_66 (Activation)       (None, 10)            0           dense_34[0][0]                   \n",
      "====================================================================================================\n",
      "Total params: 6632084\n",
      "____________________________________________________________________________________________________\n"
     ]
    }
   ],
   "source": [
    "# number of convolutional filters to use\n",
    "nb_filters = 62\n",
    "# size of pooling area for max pooling\n",
    "nb_pool = 2\n",
    "# convolution kernel size\n",
    "nb_conv = 3\n",
    "\n",
    "model = simpleCNN(nb_classes, nb_filters,nb_conv,nb_pool,img_rows,img_cols, img_channels)\n",
    "\n",
    "model.summary()\n"
   ]
  },
  {
   "cell_type": "code",
   "execution_count": 52,
   "metadata": {
    "collapsed": false
   },
   "outputs": [
    {
     "data": {
      "text/plain": [
       "<keras.callbacks.History at 0x44476710>"
      ]
     },
     "execution_count": 52,
     "metadata": {},
     "output_type": "execute_result"
    }
   ],
   "source": [
    "#%%capture\n",
    "model.fit(X_train, Y_train, batch_size=batch_size, nb_epoch=nb_epoch,verbose=1, validation_data=(X_test, Y_test))"
   ]
  },
  {
   "cell_type": "code",
   "execution_count": 53,
   "metadata": {
    "collapsed": false
   },
   "outputs": [
    {
     "name": "stdout",
     "output_type": "stream",
     "text": [
      "Test score: 0.926776760197\n",
      "Test accuracy: 0.6892\n",
      "----------------------------------------------------------\n",
      "[[  1.19975038e-01   1.75471825e-04   7.09353536e-02   5.90239977e-03\n",
      "    7.76381671e-01   2.59657484e-03   2.70935823e-04   5.39440312e-04\n",
      "    2.27913596e-02   4.31668392e-04]]\n",
      "1/1 [==============================] - 0s\n",
      "[4] --><-- 4\n",
      "----------------------------------------------------------\n",
      "[[  1.41759738e-04   1.25390561e-05   7.87824392e-03   1.73660275e-03\n",
      "    1.26308820e-03   2.48740835e-04   9.88594651e-01   9.06274581e-05\n",
      "    2.90534226e-05   4.71956764e-06]]\n",
      "1/1 [==============================] - 0s\n",
      "[6] --><-- 6\n",
      "----------------------------------------------------------\n",
      "[[  2.17899869e-04   1.01927719e-04   3.95380985e-03   7.91088164e-01\n",
      "    3.97318881e-03   1.86996430e-01   2.41103218e-04   1.32098543e-02\n",
      "    1.01886631e-04   1.15628653e-04]]\n",
      "1/1 [==============================] - 0s\n",
      "[3] --><-- 5\n",
      "----------------------------------------------------------\n",
      "[[  4.12052555e-04   3.49951617e-04   2.43350919e-02   1.07479952e-02\n",
      "    5.09322574e-03   1.34002964e-03   9.54317033e-01   3.20776802e-04\n",
      "    2.35626753e-03   7.27513980e-04]]\n",
      "1/1 [==============================] - 0s\n",
      "[6] --><-- 6\n",
      "----------------------------------------------------------\n",
      "[[  7.84085274e-01   8.68291035e-02   4.89234552e-02   1.82726348e-04\n",
      "    1.95137970e-02   2.24782532e-04   3.08976712e-04   5.84002724e-03\n",
      "    4.04476374e-02   1.36442538e-02]]\n",
      "1/1 [==============================] - 0s\n",
      "[0] --><-- 0\n",
      "----------------------------------------------------------\n",
      "[[  4.04579425e-03   2.08695815e-03   2.53687787e-04   7.59764167e-04\n",
      "    9.57104785e-05   7.82001298e-04   4.12362278e-05   6.70092879e-04\n",
      "    2.54079653e-03   9.88723993e-01]]\n",
      "1/1 [==============================] - 0s\n",
      "[9] --><-- 9\n",
      "----------------------------------------------------------\n",
      "[[  1.71800610e-04   2.04516928e-05   1.61407460e-02   5.88012278e-01\n",
      "    5.13523556e-02   3.11803520e-01   2.14393511e-02   1.07962694e-02\n",
      "    2.44789087e-04   1.84400214e-05]]\n",
      "1/1 [==============================] - 0s\n",
      "[3] --><-- 3\n",
      "----------------------------------------------------------\n",
      "[[ 0.00149008  0.0097075   0.07865983  0.21340361  0.10961059  0.0892315\n",
      "   0.00204055  0.2663323   0.00621445  0.22330959]]\n",
      "1/1 [==============================] - 0s\n",
      "[7] --><-- 9\n",
      "----------------------------------------------------------\n",
      "[[  5.98216466e-05   1.53140882e-05   3.35304742e-03   2.23601004e-03\n",
      "    2.06555352e-01   6.96803555e-02   2.86190218e-04   7.17791498e-01\n",
      "    1.18554808e-05   1.05219806e-05]]\n",
      "1/1 [==============================] - 0s\n",
      "[7] --><-- 7\n",
      "----------------------------------------------------------\n",
      "[[  3.93878698e-04   1.38992455e-05   7.63966918e-01   2.49135611e-03\n",
      "    1.51422337e-01   4.33324650e-03   7.71922320e-02   1.48997322e-04\n",
      "    1.67708295e-05   2.04245935e-05]]\n",
      "1/1 [==============================] - 0s\n",
      "[2] --><-- 6\n"
     ]
    }
   ],
   "source": [
    "score = model.evaluate(X_test, Y_test, verbose=0)\n",
    "print('Test score:', score[0])\n",
    "print('Test accuracy:', score[1])\n",
    "\n",
    "for x in range(40,50):\n",
    "    print ('----------------------------------------------------------')\n",
    "    print (model.predict(X_test[x].reshape(1,img_channels,img_rows,img_rows)) )\n",
    "    print (model.predict_classes(X_test[x].reshape(1,img_channels,img_rows,img_rows)) ,'--><--', np.argmax(Y_test[x]) )"
   ]
  },
  {
   "cell_type": "code",
   "execution_count": null,
   "metadata": {
    "collapsed": true
   },
   "outputs": [],
   "source": []
  }
 ],
 "metadata": {
  "anaconda-cloud": {},
  "kernelspec": {
   "display_name": "Python [Root]",
   "language": "python",
   "name": "Python [Root]"
  },
  "language_info": {
   "codemirror_mode": {
    "name": "ipython",
    "version": 2
   },
   "file_extension": ".py",
   "mimetype": "text/x-python",
   "name": "python",
   "nbconvert_exporter": "python",
   "pygments_lexer": "ipython2",
   "version": "2.7.12"
  }
 },
 "nbformat": 4,
 "nbformat_minor": 0
}
