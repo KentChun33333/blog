{
 "cells": [
  {
   "cell_type": "markdown",
   "metadata": {},
   "source": [
    "# [Max-Margin Object Detection](https://arxiv.org/pdf/1502.00046v1.pdf)\n"
   ]
  },
  {
   "cell_type": "markdown",
   "metadata": {},
   "source": [
    "## Summary\n",
    "\n",
    "Object Detection is a fundamental technology for vision-AI. \n",
    "\n",
    "Most object detection methods operate by applying a binary classifier to sub-windows of an image, followed by a non-maximum suppression step where detections on overlapping sub-windows are removed. \n",
    "\n",
    "This leads to sub-optimal detector performance.\n",
    "\n",
    "The Max-Margin object detection do not perform any-subsampling, but instead opertimized over all sub-windows. \n",
    "\n",
    "MMOD can be used to improce any object detection method which is linear in the learned parameters, such as HOG or bag-of-visual or DNN.\n",
    "\n",
    "In particular, this paper is going to show how to design an optimizer that runs over all windows and optimizes the performance of an object detection system in terms of the number of missed detections and false alarms in the final system output.\n",
    "\n",
    "Moreover, the formulation leads to a convex-optimization and could be provide by an algorithm which finds the globally optimal set of parameters.\n",
    "\n",
    "The result shos HOG+MMOD is really good, so as DNN+MMOD."
   ]
  },
  {
   "cell_type": "markdown",
   "metadata": {},
   "source": [
    "# Problem Definition\n",
    "\n",
    "IOU < 0.5 ( do not overlap)\n",
    "\n",
    "Denote\n",
    "\n",
    "$ x = image $\n",
    "\n",
    "$ r = rectange $\n",
    "\n",
    "$ w = \\text{parameter vector}$\n",
    "\n",
    "$ f(x,r) = \\left\\langle w,  \\phi (x,r) \\right\\rangle $\n",
    "\n",
    "where $\\phi $ extracts a feature vector from the sliding window location r in image x"
   ]
  },
  {
   "cell_type": "code",
   "execution_count": null,
   "metadata": {
    "collapsed": true
   },
   "outputs": [],
   "source": []
  },
  {
   "cell_type": "code",
   "execution_count": null,
   "metadata": {
    "collapsed": true
   },
   "outputs": [],
   "source": []
  },
  {
   "cell_type": "code",
   "execution_count": 1,
   "metadata": {},
   "outputs": [
    {
     "data": {
      "text/html": [
       "<style>\n",
       "div.text_cell_render h1 {font-size: 2.4em;line-height:2.4em;text-align:left;}\n",
       "div.text_cell_render h3 {font-size: 1.8em;line-height:1.8em;text-align:left;}\n",
       "div.text_cell_render p {font-size: 1.4em;line-height:1.4em;text-align:left;}\n",
       "div.text_cell_render li {font-size: 1.0em;line-height:1.0em;text-align:left;}\n",
       "div.container pre{font-family: Monaco;font-size: 1.2em;line-height:1.2em;}\n",
       "</style>"
      ],
      "text/plain": [
       "<IPython.core.display.HTML object>"
      ]
     },
     "execution_count": 1,
     "metadata": {},
     "output_type": "execute_result"
    }
   ],
   "source": [
    "from IPython.core.display import HTML\n",
    "HTML(\"\"\"<style>\n",
    "div.text_cell_render h1 {font-size: 2.4em;line-height:2.4em;text-align:left;}\n",
    "div.text_cell_render h3 {font-size: 1.8em;line-height:1.8em;text-align:left;}\n",
    "div.text_cell_render p {font-size: 1.4em;line-height:1.4em;text-align:left;}\n",
    "div.text_cell_render li {font-size: 1.0em;line-height:1.0em;text-align:left;}\n",
    "div.container pre{font-family: Monaco;font-size: 1.2em;line-height:1.2em;}\n",
    "</style>\"\"\")"
   ]
  },
  {
   "cell_type": "code",
   "execution_count": null,
   "metadata": {
    "collapsed": true
   },
   "outputs": [],
   "source": []
  }
 ],
 "metadata": {
  "anaconda-cloud": {},
  "kernelspec": {
   "display_name": "Python 3",
   "language": "python",
   "name": "python3"
  },
  "language_info": {
   "codemirror_mode": {
    "name": "ipython",
    "version": 3
   },
   "file_extension": ".py",
   "mimetype": "text/x-python",
   "name": "python",
   "nbconvert_exporter": "python",
   "pygments_lexer": "ipython3",
   "version": "3.7.1"
  },
  "varInspector": {
   "cols": {
    "lenName": 16,
    "lenType": 16,
    "lenVar": 40
   },
   "kernels_config": {
    "python": {
     "delete_cmd_postfix": "",
     "delete_cmd_prefix": "del ",
     "library": "var_list.py",
     "varRefreshCmd": "print(var_dic_list())"
    },
    "r": {
     "delete_cmd_postfix": ") ",
     "delete_cmd_prefix": "rm(",
     "library": "var_list.r",
     "varRefreshCmd": "cat(var_dic_list()) "
    }
   },
   "types_to_exclude": [
    "module",
    "function",
    "builtin_function_or_method",
    "instance",
    "_Feature"
   ],
   "window_display": false
  }
 },
 "nbformat": 4,
 "nbformat_minor": 1
}
