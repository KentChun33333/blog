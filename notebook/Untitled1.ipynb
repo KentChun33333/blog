{
 "cells": [
  {
   "cell_type": "markdown",
   "metadata": {},
   "source": [
    "# FeedBack \n",
    "\n",
    "- 推薦 Matusik or Randall-Davis 的提案.\n",
    "- \n",
    "\n",
    "---\n",
    "# (前)\n",
    "\n",
    "#### 1. 需要PM細化場景目標的相關細節  \n",
    "- 目前場景只定義了High-level的自動失效分析, 具體細節還未定義, \n",
    "- what production ? \n",
    "- what production-line ? \n",
    "- where is the 試點產線 ? \n",
    "\n",
    "\n",
    "#### 2. 需要內部大數據工程師-根據目標場景, 來提供相關數據 :  自三個實驗室的提案中均註明, 所有的提案來都假設在於, 我們要有數據提供給MIT. 其中以來自Matusik教授的描述最為清晰 \n",
    "We assume that we will be provided with multiple video streams from a factory floor. The video streams will contain an accurate time stamp. We will also have an access to a rough layout of where the cameras are located in the work space. There also might be some auxiliary data associated with the production process (e.g., data on significant events).\n",
    "\n",
    "--- \n",
    "\n",
    "# (中)\n",
    "\n",
    "#### 1. 訪問工程師的要求,以Dannia Rus的描述最為清晰,\n",
    "\n",
    "The technical skills required for the engineers that will build the system are as follows.\n",
    "\n",
    "\n",
    "- Algorithms Designer: Familiar with data reduction techniques, machine learning\n",
    "techniques/frameworks computer vision applications, and advanced probability and that\n",
    "can do code review for the software engineers.\n",
    "\n",
    "\n",
    "-  Software Engineer: Experience in programming in both high level language (for first\n",
    "prototypes, Matlab/Python) and more low level languages (Java/C), Object oriented\n",
    "programming, familiarity with linear algebra and signal processing in the level of at least\n",
    "a graduate student.\n",
    "\n",
    "\n",
    "-  Software Engineer: Knowledge in programming and administration of networks and\n",
    "parallel computations frameworks such as Linux, Hadoop, Mahout, Amazon and Digital\n",
    "Ocean.\n",
    "\n",
    "\n",
    "Strength is at least one of the three areas is preferred. Ability to speak English, openness to\n",
    "become integrated in PI Rus's group, and openness to learn new tools are also important.\n",
    "\n",
    "#### 2. 建議訪問工程師的生活津貼\n",
    "- 考量去美國的生活水平與損失的外派津貼... etc \n",
    "- 建議每月補助津貼要提高2-3倍,由每月1800USD -> 3600~5400USD \n",
    "- 其他亞洲公司的額外津貼(台灣x創 ~5000USD, 中國華X ~7000USD)\n",
    "\n",
    "\n",
    "# (後)\n",
    "####  1. 來自三個教授的提案均有深度學習, 需要GPU Servers 對接. \n",
    "- 建議投資GPU的金額至少要多於投資給學校的研發經費.\n",
    "- 建議根據場景大小,預計商業規模, 可操作的工程人員數量, 來定義具體金額(300w RMB - 1000w RMB). \n",
    "\n",
    "#### 2. 要build 系統, 基本需要無防火牆的外網\n",
    "- 建議比照所有中國大型企業,自建特別的高速VPN網路.\n",
    "\n",
    "#### 3. 需3-5基本工程人員, 進行系統落地維護, 建議薪水需符合基本市場行情\n",
    "- 30-50w RMB-up per engineer (中國/台灣)\n",
    "- 50-80w RMB-up per engineer (美國). \n",
    "\n",
    "\n"
   ]
  },
  {
   "cell_type": "code",
   "execution_count": null,
   "metadata": {
    "collapsed": true
   },
   "outputs": [],
   "source": []
  }
 ],
 "metadata": {
  "kernelspec": {
   "display_name": "Python [conda root]",
   "language": "python",
   "name": "conda-root-py"
  },
  "language_info": {
   "codemirror_mode": {
    "name": "ipython",
    "version": 3
   },
   "file_extension": ".py",
   "mimetype": "text/x-python",
   "name": "python",
   "nbconvert_exporter": "python",
   "pygments_lexer": "ipython3",
   "version": "3.5.2"
  }
 },
 "nbformat": 4,
 "nbformat_minor": 1
}
