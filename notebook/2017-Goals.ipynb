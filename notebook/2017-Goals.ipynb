{
 "cells": [
  {
   "cell_type": "code",
   "execution_count": 59,
   "metadata": {
    "collapsed": false
   },
   "outputs": [
    {
     "data": {
      "text/html": [
       "<script> \n",
       "code_show=true;\n",
       "function code_toggle() { \n",
       "  if (code_show){\n",
       "    $('div.input').hide();\n",
       "    $('div.prompt').hide();\n",
       "  } \n",
       "  else { \n",
       "    $('div.prompt').show();\n",
       "    $('div.input').show();\n",
       "    } code_show = !code_show ;\n",
       "    \n",
       "}\n",
       "\n",
       "$( document ).ready(code_toggle);\n",
       "</script>\n",
       "<style>\n",
       "input {\n",
       "    width : 100%;\n",
       "    background-color: white;\n",
       "    border: none;\n",
       "    color: white;\n",
       "    padding: 1px 1px;\n",
       "    margin: 1px 1px;\n",
       "    cursor: pointer;\n",
       "}\n",
       "</style>\n",
       "\n",
       "<form action=\"javascript:code_toggle()\">\n",
       "  <input type=\"submit\" value=\"\">\n",
       "</form>"
      ],
      "text/plain": [
       "<IPython.core.display.HTML object>"
      ]
     },
     "execution_count": 59,
     "metadata": {},
     "output_type": "execute_result"
    }
   ],
   "source": [
    "from IPython.display import HTML\n",
    "\n",
    "HTML('''<script> \n",
    "code_show=true;\n",
    "function code_toggle() { \n",
    "  if (code_show){\n",
    "    $('div.input').hide();\n",
    "    $('div.prompt').hide();\n",
    "  } \n",
    "  else { \n",
    "    $('div.prompt').show();\n",
    "    $('div.input').show();\n",
    "    } code_show = !code_show ;\n",
    "    \n",
    "}\n",
    "\n",
    "$( document ).ready(code_toggle);\n",
    "</script>\n",
    "<style>\n",
    "input {\n",
    "    width : 100%;\n",
    "    background-color: white;\n",
    "    border: none;\n",
    "    color: white;\n",
    "    padding: 1px 1px;\n",
    "    margin: 1px 1px;\n",
    "    cursor: pointer;\n",
    "}\n",
    "</style>\n",
    "\n",
    "<form action=\"javascript:code_toggle()\">\n",
    "  <input type=\"submit\" value=\"\">\n",
    "</form>''')"
   ]
  },
  {
   "cell_type": "markdown",
   "metadata": {
    "slideshow": {
     "slide_type": "-"
    }
   },
   "source": [
    "# 2017 Plan\n",
    "- Reinforcement Learning \n",
    " - \n",
    "- Paper Reading\n",
    "- Personal AI project ( investment )\n",
    "- Data Scientist Blog Refine \n"
   ]
  },
  {
   "cell_type": "code",
   "execution_count": 60,
   "metadata": {
    "collapsed": false
   },
   "outputs": [],
   "source": [
    "\n",
    "html = \"\"\"\n",
    "<div id=\"main\" style=\"width: 600px;height:400px;\"></div>\n",
    "\n",
    "<script type=\"text/javascript\">   \n",
    "\n",
    "//\n",
    "require.config({\n",
    "         paths:{\n",
    "            echarts: ['//cdn.bootcss.com/echarts/3.4.0/echarts.min'],\n",
    "         }\n",
    "    });\n",
    "\n",
    "//\n",
    "require(['echarts'],function(ec){\n",
    "  //\n",
    "  var myChart = ec.init(document.getElementById('main'));\n",
    "\n",
    "  //\n",
    "  var option = {\n",
    "            title: {\n",
    "                text: 'Kent'\n",
    "            },\n",
    "            tooltip: {},\n",
    "            legend: {\n",
    "                data:['销量']\n",
    "            },\n",
    "            xAxis: {\n",
    "                data: [\"衬衫\",\"羊毛衫\",\"雪纺衫\",\"裤子\",\"高跟鞋\",\"袜子\"]\n",
    "            },\n",
    "            yAxis: {},\n",
    "            series: [{\n",
    "                name: '销量',\n",
    "                type: 'bar',\n",
    "                data: [5, 20, 36, 10, 10, 20]\n",
    "            }]\n",
    "        };\n",
    "\n",
    "  //  \n",
    "  myChart.setOption(option);\n",
    "         });\n",
    "    </script>\n",
    "\"\"\""
   ]
  },
  {
   "cell_type": "code",
   "execution_count": 61,
   "metadata": {
    "collapsed": false
   },
   "outputs": [
    {
     "data": {
      "text/html": [
       "\n",
       "<div id=\"main\" style=\"width: 600px;height:400px;\"></div>\n",
       "\n",
       "<script type=\"text/javascript\">   \n",
       "\n",
       "//\n",
       "require.config({\n",
       "         paths:{\n",
       "            echarts: ['//cdn.bootcss.com/echarts/3.4.0/echarts.min'],\n",
       "         }\n",
       "    });\n",
       "\n",
       "//\n",
       "require(['echarts'],function(ec){\n",
       "  //\n",
       "  var myChart = ec.init(document.getElementById('main'));\n",
       "\n",
       "  //\n",
       "  var option = {\n",
       "            title: {\n",
       "                text: 'Kent'\n",
       "            },\n",
       "            tooltip: {},\n",
       "            legend: {\n",
       "                data:['销量']\n",
       "            },\n",
       "            xAxis: {\n",
       "                data: [\"衬衫\",\"羊毛衫\",\"雪纺衫\",\"裤子\",\"高跟鞋\",\"袜子\"]\n",
       "            },\n",
       "            yAxis: {},\n",
       "            series: [{\n",
       "                name: '销量',\n",
       "                type: 'bar',\n",
       "                data: [5, 20, 36, 10, 10, 20]\n",
       "            }]\n",
       "        };\n",
       "\n",
       "  //  \n",
       "  myChart.setOption(option);\n",
       "         });\n",
       "    </script>\n"
      ],
      "text/plain": [
       "<IPython.core.display.HTML object>"
      ]
     },
     "execution_count": 61,
     "metadata": {},
     "output_type": "execute_result"
    }
   ],
   "source": [
    "from IPython.display import HTML\n",
    "HTML(html)"
   ]
  },
  {
   "cell_type": "code",
   "execution_count": null,
   "metadata": {
    "collapsed": true
   },
   "outputs": [],
   "source": []
  }
 ],
 "metadata": {
  "celltoolbar": "Raw Cell Format",
  "kernelspec": {
   "display_name": "Python 2",
   "language": "python",
   "name": "python2"
  },
  "language_info": {
   "codemirror_mode": {
    "name": "ipython",
    "version": 2
   },
   "file_extension": ".py",
   "mimetype": "text/x-python",
   "name": "python",
   "nbconvert_exporter": "python",
   "pygments_lexer": "ipython2",
   "version": "2.7.12"
  }
 },
 "nbformat": 4,
 "nbformat_minor": 2
}
