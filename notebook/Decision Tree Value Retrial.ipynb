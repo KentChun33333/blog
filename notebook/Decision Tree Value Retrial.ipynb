{
 "cells": [
  {
   "cell_type": "code",
   "execution_count": 4,
   "metadata": {
    "collapsed": false
   },
   "outputs": [],
   "source": [
    "from sklearn.datasets import load_iris\n",
    "from sklearn import tree\n",
    "iris = load_iris()\n",
    "clf = tree.DecisionTreeClassifier(max_depth=3)\n",
    "clf = clf.fit(iris.data, iris.target)"
   ]
  },
  {
   "cell_type": "code",
   "execution_count": 32,
   "metadata": {
    "collapsed": false
   },
   "outputs": [],
   "source": [
    "import pandas as pd\n",
    "import numpy as np\n",
    "\n",
    "\n",
    "clf = tree.DecisionTreeClassifier(max_depth=5)\n",
    "clf = clf.fit(iris.data, iris.target)\n",
    "\n",
    "# This function first starts with the nodes \n",
    "# (identified by -1 in the child arrays) and then recursively finds the parents. \n",
    "# I call this a node's 'lineage'. \n",
    "\n",
    "# Along the way, I grab the values I need to create if/then/else SAS logic:\n",
    "\n",
    "def get_lineage(tree, feature_names):\n",
    "     left      = tree.tree_.children_left\n",
    "     right     = tree.tree_.children_right\n",
    "     threshold = tree.tree_.threshold\n",
    "     features  = [feature_names[i] for i in tree.tree_.feature]\n",
    "\n",
    "     # get ids of child nodes\n",
    "     idx = np.argwhere(left == -1)[:,0]     \n",
    "\n",
    "     def recurse(left, right, child, lineage=None):          \n",
    "          if lineage is None:\n",
    "               lineage = [child]\n",
    "          if child in left:\n",
    "               parent = np.where(left == child)[0].item()\n",
    "               split = 'l'\n",
    "          else:\n",
    "               parent = np.where(right == child)[0].item()\n",
    "               split = 'r'\n",
    "\n",
    "          lineage.append((parent, split, threshold[parent], features[parent]))\n",
    "\n",
    "          if parent == 0:\n",
    "               lineage.reverse()\n",
    "               return lineage\n",
    "          else:\n",
    "               return recurse(left, right, parent, lineage)\n",
    "\n",
    "     for child in idx:\n",
    "          for node in recurse(left, right, child):\n",
    "               print node"
   ]
  },
  {
   "cell_type": "code",
   "execution_count": 33,
   "metadata": {
    "collapsed": false
   },
   "outputs": [
    {
     "name": "stdout",
     "output_type": "stream",
     "text": [
      "(0, 'l', 2.4500000476837158, 'petal length (cm)')\n",
      "1\n",
      "(0, 'r', 2.4500000476837158, 'petal length (cm)')\n",
      "(2, 'l', 1.75, 'petal width (cm)')\n",
      "(3, 'l', 4.9499998092651367, 'petal length (cm)')\n",
      "(4, 'l', 1.6500000953674316, 'petal width (cm)')\n",
      "5\n",
      "(0, 'r', 2.4500000476837158, 'petal length (cm)')\n",
      "(2, 'l', 1.75, 'petal width (cm)')\n",
      "(3, 'l', 4.9499998092651367, 'petal length (cm)')\n",
      "(4, 'r', 1.6500000953674316, 'petal width (cm)')\n",
      "6\n",
      "(0, 'r', 2.4500000476837158, 'petal length (cm)')\n",
      "(2, 'l', 1.75, 'petal width (cm)')\n",
      "(3, 'r', 4.9499998092651367, 'petal length (cm)')\n",
      "(7, 'l', 1.5499999523162842, 'petal width (cm)')\n",
      "8\n",
      "(0, 'r', 2.4500000476837158, 'petal length (cm)')\n",
      "(2, 'l', 1.75, 'petal width (cm)')\n",
      "(3, 'r', 4.9499998092651367, 'petal length (cm)')\n",
      "(7, 'r', 1.5499999523162842, 'petal width (cm)')\n",
      "(9, 'l', 6.9499998092651367, 'sepal length (cm)')\n",
      "10\n",
      "(0, 'r', 2.4500000476837158, 'petal length (cm)')\n",
      "(2, 'l', 1.75, 'petal width (cm)')\n",
      "(3, 'r', 4.9499998092651367, 'petal length (cm)')\n",
      "(7, 'r', 1.5499999523162842, 'petal width (cm)')\n",
      "(9, 'r', 6.9499998092651367, 'sepal length (cm)')\n",
      "11\n",
      "(0, 'r', 2.4500000476837158, 'petal length (cm)')\n",
      "(2, 'r', 1.75, 'petal width (cm)')\n",
      "(12, 'l', 4.8500003814697266, 'petal length (cm)')\n",
      "(13, 'l', 3.0999999046325684, 'sepal width (cm)')\n",
      "14\n",
      "(0, 'r', 2.4500000476837158, 'petal length (cm)')\n",
      "(2, 'r', 1.75, 'petal width (cm)')\n",
      "(12, 'l', 4.8500003814697266, 'petal length (cm)')\n",
      "(13, 'r', 3.0999999046325684, 'sepal width (cm)')\n",
      "15\n",
      "(0, 'r', 2.4500000476837158, 'petal length (cm)')\n",
      "(2, 'r', 1.75, 'petal width (cm)')\n",
      "(12, 'r', 4.8500003814697266, 'petal length (cm)')\n",
      "16\n"
     ]
    }
   ],
   "source": [
    "get_lineage(clf , iris['feature_names'])"
   ]
  },
  {
   "cell_type": "code",
   "execution_count": 19,
   "metadata": {
    "collapsed": false
   },
   "outputs": [
    {
     "name": "stdout",
     "output_type": "stream",
     "text": [
      "['target_names', 'data', 'target', 'DESCR', 'feature_names']\n"
     ]
    }
   ],
   "source": [
    "print iris.keys()"
   ]
  },
  {
   "cell_type": "code",
   "execution_count": 29,
   "metadata": {
    "collapsed": false
   },
   "outputs": [
    {
     "name": "stdout",
     "output_type": "stream",
     "text": [
      "['sepal length (cm)', 'sepal width (cm)', 'petal length (cm)', 'petal width (cm)']\n"
     ]
    }
   ],
   "source": [
    "print iris['feature_names']"
   ]
  },
  {
   "cell_type": "code",
   "execution_count": null,
   "metadata": {
    "collapsed": true
   },
   "outputs": [],
   "source": []
  }
 ],
 "metadata": {
  "kernelspec": {
   "display_name": "Python 2",
   "language": "python",
   "name": "python2"
  },
  "language_info": {
   "codemirror_mode": {
    "name": "ipython",
    "version": 2
   },
   "file_extension": ".py",
   "mimetype": "text/x-python",
   "name": "python",
   "nbconvert_exporter": "python",
   "pygments_lexer": "ipython2",
   "version": "2.7.12"
  }
 },
 "nbformat": 4,
 "nbformat_minor": 0
}
