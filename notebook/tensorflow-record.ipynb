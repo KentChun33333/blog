{
 "cells": [
  {
   "cell_type": "code",
   "execution_count": 1,
   "metadata": {
    "collapsed": false
   },
   "outputs": [
    {
     "ename": "SyntaxError",
     "evalue": "invalid syntax (<ipython-input-1-16a24c1a1422>, line 1)",
     "output_type": "error",
     "traceback": [
      "\u001b[0;36m  File \u001b[0;32m\"<ipython-input-1-16a24c1a1422>\"\u001b[0;36m, line \u001b[0;32m1\u001b[0m\n\u001b[0;31m    $([IPython.events]).on('app_initialized.NotebookApp', function(){\u001b[0m\n\u001b[0m    ^\u001b[0m\n\u001b[0;31mSyntaxError\u001b[0m\u001b[0;31m:\u001b[0m invalid syntax\n"
     ]
    }
   ],
   "source": [
    "\n",
    "$([IPython.events]).on('app_initialized.NotebookApp', function(){\n",
    "    IPython.toolbar.add_buttons_group([\n",
    "          {\n",
    "                'label'   : 'print view friendly',\n",
    "                'icon'    : 'icon-print',\n",
    "                'callback': function(){\n",
    "                    $('#notebook').attr('style','');\n",
    "                    // more things to hide if needed\n",
    "                    print();\n",
    "                    // re show hidden things\n",
    "                    IPython.layout_manager.do_resize()\n",
    "                }\n",
    "          }\n",
    "    ]);\n",
    "});"
   ]
  },
  {
   "cell_type": "code",
   "execution_count": null,
   "metadata": {
    "collapsed": true
   },
   "outputs": [],
   "source": []
  }
 ],
 "metadata": {
  "kernelspec": {
   "display_name": "Python 2",
   "language": "python",
   "name": "python2"
  }
 },
 "nbformat": 4,
 "nbformat_minor": 1
}
