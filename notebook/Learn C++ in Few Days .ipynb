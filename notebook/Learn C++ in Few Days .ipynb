{
 "cells": [
  {
   "cell_type": "markdown",
   "metadata": {},
   "source": [
    "# Learn C++ in Days \n",
    "\n",
    "Learning C++ is harder than learning Python/JAVA/C/JAVASCRIPT ... etc.\n",
    "If you have no previous experience on any other languages such as listed above, I would suggest you to learn Python first. "
   ]
  },
  {
   "cell_type": "markdown",
   "metadata": {},
   "source": [
    "### cout  \n",
    "cout is from std::cout, It’s a predefined object that knows how to display a variety of things, including strings, numbers, and individual characters.\n",
    "\n",
    "cout << endl;\n",
    "endl is a special C++ notation that represents the important concept of beginning a new line.\n",
    "\n",
    "cout << “What’s next?\\n”; // \\n means start a new line\n",
    "\n",
    "int steinway;\n",
    "int baldwin;\n",
    "int yamaha;\n",
    "yamaha = baldwin = steinway = 88;\n",
    "\n",
    "Perhaps the contrast with old C will indicate how clever cout is. To print the string “25” and the integer 25 in C, you could use C’s multipurpose output function printf():\n",
    "printf(“Printing a string: %s\\n”, “25”); printf(“Printing an integer: %d\\n”, 25);\n",
    "\n",
    "### cin \n",
    "using cin to read keyboard input and combining four out-\n",
    "put statements into one. Let’s take a look.\n",
    "cin >> carrots; // C++ input\n",
    "\n",
    "For input, cin uses the >> operator to extract characters from the input stream. Typically, you provide a variable to the right of the operator to receive the extracted information. (The symbols << and >> were chosen to visually suggest the direction in which information flows.)\n",
    "\n",
    "\n",
    "Now consider cout. It is an object created to have the properties of the ostream class. The ostream class definition (another inhabitant of the iostream file) describes the sort of data an ostream object represents and the operations you can perform with and to it, such as inserting a number or string into an output stream. Similarly, cin is an object cre- ated with the properties of the istream class, also defined in iostream.\n",
    "\n",
    "\n",
    "The iostream family of classes and the related fstream (or file I/O) family are the only sets of class definitions that came with all early imple- mentations of C++. \n",
    "\n",
    "### void function\n",
    "void bucks(double); // prototype for function with no return value\n",
    "\n",
    "bucks(1234.56); // function call, no return value\n",
    "\n",
    "### Function Structure\n",
    "type functionname(argumentlist) {\n",
    "statements\n",
    "}\n",
    "\n",
    "\n",
    "### Function Headers\n",
    "\n",
    "void simon(int n)"
   ]
  },
  {
   "cell_type": "markdown",
   "metadata": {},
   "source": [
    "### sizeof\n",
    "\n",
    "The **sizeof** operator reports that int is 4 bytes on the base system\n",
    "```c\n",
    "cout << “int is “ << sizeof (int) << “ bytes.\\n”; \n",
    "cout << “short is “ << sizeof n_short << “ bytes.\\n”;\n",
    "```"
   ]
  },
  {
   "cell_type": "markdown",
   "metadata": {},
   "source": [
    "### climits\n",
    "\n",
    "The **climits** header file defines symbolic constants to represent type limits.\n",
    "\n",
    "```c\n",
    "#include <climits> \n",
    "// use limits.h for older systems\n",
    "```\n",
    "\n",
    "\n",
    "As mentioned previously, INT_MAX represents the largest value type int can hold; this turned out to be 32,767 for our DOS system. The compiler manufacturer provides a climits file that reflects the values appro- priate to that compiler. For example, the climits file for Windows XP, which uses a 32-bit int, defines INT_MAX to represent 2,147,483,647. Table 3.1 summarizes the symbolic con- stants defined in the climits file; some pertain to types you have not yet learned."
   ]
  },
  {
   "cell_type": "markdown",
   "metadata": {},
   "source": [
    "### Unsigned Types\n",
    "\n",
    "For example, if short represents the range –32,768 to +32,767, the unsigned version can represent the range 0 to 65,535\n",
    "\n",
    "```c\n",
    "unsigned short change ; // unsigned short type\n",
    "unsigned int rovert   ; // unsigned int type\n",
    "unsigned quarterback  ; // also unsigned int\n",
    "unsigned long gone    ; // unsigned long type\n",
    "```"
   ]
  },
  {
   "cell_type": "markdown",
   "metadata": {},
   "source": [
    "### Integer Constant\n",
    "\n",
    "```c\n",
    "int chest  = 42   ; // decimal integer constant\n",
    "int waist  = 0x42 ; // hexadecimal integer constant \n",
    "int inseam = 042  ; // octal integer constant\n",
    "```\n",
    "\n",
    "chest = 42 (42 in decimal)\n",
    "waist = 66 (0x42 in hex)\n",
    "inseam = 34 (042 in octal)\n",
    "\n",
    "C++ stores integer constants as type int unless there is a reason to do otherwise. Two such reasons are if you use a special suffix to indicate a particular type or if a value is too large to be an int."
   ]
  },
  {
   "cell_type": "markdown",
   "metadata": {},
   "source": [
    "### Char\n",
    "\n",
    "In the United States is the ASCII character set.\n",
    "```c\n",
    "#include <iostream>\n",
    "\n",
    "int main(){\n",
    "\n",
    "    using namespace std ; \n",
    "    char ch = 'M' ; \n",
    "    int i = ch ; // store same code in an int, witch is ASCII\n",
    "    cout << \"The ASCII code for \" << ch << \" is \" << i << endl;\n",
    "\n",
    "    ch = ch + 1 ; \n",
    "    i = ch ;\n",
    "    cout << \"The ASCII code for \" << ch << \" is \" << i << endl;\n",
    "\n",
    "    // using cout.put memeber function to display a char\n",
    "    cout << \"Display char ch using cout.put \\n\" ;\n",
    "    cout.put(ch)  ;\n",
    "    cout.put('!') ;\n",
    "    return 0;\n",
    "\n",
    "}\n",
    "```\n",
    "\n",
    "Output : \n",
    "```\n",
    "The ASCII code for M is 77\n",
    "The ASCII code for N is 78\n",
    "Display char ch using cout.put \n",
    "```"
   ]
  },
  {
   "cell_type": "markdown",
   "metadata": {},
   "source": [
    "### Usigned Char\n",
    "\n",
    "Unlike int, char is not signed by default. Nor is it unsigned by default. \n",
    "\n",
    "The choice is left to the C++ implementation in order to allow the compiler developer to best fit the type to the hardware properties. \n",
    "\n",
    "If it is vital to you that char has a particular behavior, you can use signed char or unsigned char explicitly as types:\n",
    "\n",
    "```c\n",
    "￼char fodo         ; // may be signed, may be unsigned\n",
    "unsigned char bar ; // definitely unsigned\n",
    "signed char snark ; // definitely signed\n",
    "```"
   ]
  },
  {
   "cell_type": "markdown",
   "metadata": {},
   "source": [
    "### For When You Need More: wchar_t\n",
    "\n",
    "Programs might have to handle character sets that don’t fit within the confines of a single 8-bit byte ( Chinese ... etc )\n",
    "\n",
    "**wchar_t (for wide character type)** The wchar_t type is an integer type with sufficient space to represent the largest extended character set used on the system.\n",
    " \n",
    "This type has the same size and sign properties as one of the other integer types, which is called the **underlying type**. \n",
    " \n",
    " \n",
    "The cin and cout family are not suitable for handling the wchar_t type. The latest version of the iostream header file provides parallel facilities in the form of **wcin** and **wcout** for handling wchar_t streams. \n",
    "\n",
    "Also, you can indicate a wide-character constant or string by preceding it with an L.\n",
    "```c\n",
    "L'CCDFA' //  wchar_t\n",
    "'CCDAF'  //  char\n",
    "```\n",
    "\n",
    "On a system with a 2-byte wchar_t, this code stores each character in a 2-byte unit of memory. This book doesn’t use the wide-character type, but you should be aware of it, particularly if you become involved in international programming or in using Unicode or ISO 10646."
   ]
  },
  {
   "cell_type": "markdown",
   "metadata": {},
   "source": [
    "### The const Qualifier\n",
    "\n",
    "```c\n",
    "const int MONTHS = 12; //Months is symbolic constant =12 ,and not able to be changed\n",
    "```\n",
    "\n",
    "This help to a clean code with explicit meaning : )\n",
    "\n",
    "If your background is in C, you might feel that the #define statement, which is discussed ear- lier, already does the job adequately. But const is better. \n",
    "\n",
    "- it lets you specify the type explicitly. \n",
    "\n",
    "- you can use C++’s scoping rules to limit the definition to particular functions or files. (Scoping rules describe how widely known a name is to different modules; “Memory Models and Namespaces.”) \n",
    "\n",
    "- you can use const with more elaborate types, such as arrays and structures."
   ]
  },
  {
   "cell_type": "markdown",
   "metadata": {},
   "source": [
    "### Float and Division is similar to python\n",
    "\n",
    "Float : \n",
    "```c\n",
    "2.52e+8 //canuseEore,+isoptional \n",
    "8.33E-4 // exponent can be negative\n",
    "7E5 // same as 7.0E+05\n",
    "-18.32e13 //canhave+or-signinfront \n",
    "7.123e12 // U.S. public debt, early 2004 \n",
    "5.98E24 // mass of earth in kilograms \n",
    "9.11e-31 // mass of an electron in kilograms\n",
    "```\n",
    "\n",
    "Division : \n",
    "```c\n",
    "Integer division: 9/5 = 1\n",
    "Floating-point division: 9.0/5.0 = 1.800000 \n",
    "Mixed division: 9.0/5 = 1.800000\n",
    "double constants: 1e7/9.0 = 1111111.111111 \n",
    "float constants: 1e7f/9.0f = 1111111.125000\n",
    "```\n"
   ]
  },
  {
   "cell_type": "markdown",
   "metadata": {},
   "source": [
    "## Type Conversion is much like python\n",
    "\n",
    "```c\n",
    "// these statements add values as int \n",
    "bats = (int) 19.99 + (int) 11.99; // old C syntax\n",
    "coots = int (19.99) + int (11.99); // new C++ syntax\n",
    "cout << “auks = “ << auks << “, bats = cout << “, coots = “ << coots << endl;\n",
    "```"
   ]
  },
  {
   "cell_type": "markdown",
   "metadata": {},
   "source": [
    "### preprocessor #define statement\n",
    "\n"
   ]
  },
  {
   "cell_type": "code",
   "execution_count": null,
   "metadata": {
    "collapsed": true
   },
   "outputs": [],
   "source": []
  }
 ],
 "metadata": {
  "kernelspec": {
   "display_name": "Python 2",
   "language": "python",
   "name": "python2"
  },
  "language_info": {
   "codemirror_mode": {
    "name": "ipython",
    "version": 2
   },
   "file_extension": ".py",
   "mimetype": "text/x-python",
   "name": "python",
   "nbconvert_exporter": "python",
   "pygments_lexer": "ipython2",
   "version": "2.7.12"
  }
 },
 "nbformat": 4,
 "nbformat_minor": 0
}
