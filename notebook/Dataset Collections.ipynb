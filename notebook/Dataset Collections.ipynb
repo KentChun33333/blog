{
 "cells": [
  {
   "cell_type": "markdown",
   "metadata": {},
   "source": [
    "# General Dataset Collections \n",
    "\n",
    "As doing our own project, we just need to try lots of codes from others to build ours.\n",
    "\n",
    "There is one problem found freqently that for different scripts or projects-code, they actually use different location to store the bench-marking dataset such as following.\n",
    "\n",
    "\n",
    "- Cifar 100\n",
    "- mnist \n",
    "- imagenet \n",
    "- Pascal VOC\n",
    "- Flicker\n",
    "- COCO"
   ]
  },
  {
   "cell_type": "code",
   "execution_count": null,
   "metadata": {
    "collapsed": true
   },
   "outputs": [],
   "source": []
  }
 ],
 "metadata": {
  "anaconda-cloud": {},
  "kernelspec": {
   "display_name": "Python [conda root]",
   "language": "python",
   "name": "conda-root-py"
  },
  "language_info": {
   "codemirror_mode": {
    "name": "ipython",
    "version": 2
   },
   "file_extension": ".py",
   "mimetype": "text/x-python",
   "name": "python",
   "nbconvert_exporter": "python",
   "pygments_lexer": "ipython2",
   "version": "2.7.12"
  }
 },
 "nbformat": 4,
 "nbformat_minor": 1
}
