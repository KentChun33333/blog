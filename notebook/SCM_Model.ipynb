{
 "cells": [
  {
   "cell_type": "markdown",
   "metadata": {},
   "source": [
    "Machine learning / Deep leaning is foucs on X => Y and need trained by Ground Truth\n",
    "However, in the some problems, we don't have Ground Truth.\n",
    "We just need to use our sample population to estimate the ground truth with some confidence level. however, for a complex distribution big data, the correlation between data is highly tangled, sometimes it also contains causality.\n",
    "\n",
    "\n",
    "Procurement Order from Client : CPO\n",
    "\n",
    "Procurement Order to Vendor : VPO\n",
    "\n",
    "Manufauring Order : MO\n",
    "\n",
    "Number of CPO = cpo\n",
    "\n",
    "Number of VPO = vpo\n",
    "\n",
    "Number of MO = mo\n"
   ]
  },
  {
   "cell_type": "markdown",
   "metadata": {},
   "source": [
    "\n",
    "\n",
    "$ \\text{PO from client } : X_{1} \\in \\text{R}^  {\\text{cpo } * N_{1}} $\n",
    "\n",
    "$ \\text{PO to vendor }  : X_{2} \\in \\text{R}^   { \\text{vpo } * N_{2}} $\n",
    "\n",
    "$ \\text{MO in production } : X_{3} \\in \\text{R}^{ \\text{mo } * N_{3}}$\n",
    "\n",
    "$ $\n",
    "\n",
    "$ \\text{For  } i \\text{  in Range}(1,3):  $\n",
    "\n",
    "$ \\text{----  } X_{i} = \\text{PCA}( ( X_{i})  ,\\text{pca_length } = N )$\n",
    "\n",
    "$ \\text{----  } X_{i} = \\text{ Aggregation_by_compoent}(X_{i}) $\n",
    "\n",
    "$ $\n",
    "\n",
    "$ X = \\text{Concatenate }( [X_{1}, X_{2}, X_{3}] , \\text{ axis} = 0) \\in {R^{ \\text{ (components) } * 3N}} $\n",
    "\n",
    "$ Y = \\text{ Keams}(X , \\text{k} = n) \\in \\text{R}^{n} $\n",
    "\n",
    "$ Y = $ "
   ]
  },
  {
   "cell_type": "code",
   "execution_count": null,
   "metadata": {
    "collapsed": true
   },
   "outputs": [],
   "source": []
  }
 ],
 "metadata": {
  "kernelspec": {
   "display_name": "Python 2",
   "language": "python",
   "name": "python2"
  },
  "language_info": {
   "codemirror_mode": {
    "name": "ipython",
    "version": 2
   },
   "file_extension": ".py",
   "mimetype": "text/x-python",
   "name": "python",
   "nbconvert_exporter": "python",
   "pygments_lexer": "ipython2",
   "version": "2.7.12"
  }
 },
 "nbformat": 4,
 "nbformat_minor": 0
}
