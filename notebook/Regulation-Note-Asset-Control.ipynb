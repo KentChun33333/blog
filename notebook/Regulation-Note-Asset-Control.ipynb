{
 "cells": [
  {
   "cell_type": "markdown",
   "metadata": {},
   "source": [
    "# Note-Asset Control Regulations \n",
    "\n",
    "- Note Identity Encoding Regulation : **className-xx-name.ipynb**\n",
    " - **className** should be correnspoding to content/**folderName**/*\n",
    " - **xx** and **name** should be in one-to-one relation\n",
    " - **name** <font color=red>must not contain</font> ** - ** symbol\n",
    " - **xx** in [00,99] \n",
    " - where we call **<font color=blue>className-xx-name == NoteID</font>**\n",
    "\n",
    "- Asset Identity Encoding Regulation : **className-xx-name-yy** == **NoetID-yy**\n",
    " - **yy** in [00,99]\n",
    " - **yy** is the number on the condition of **Asset Type**, for example : \n",
    "   - RL-01-MDP-00.jpg\n",
    "   - RL-01-MDP-00.avi\n",
    " \n",
    "- Asset Type \n",
    " - img (jpg | png) \n",
    " - video (avi with h264 codec)\n",
    " - audio (mp3)\n",
    " \n",
    "- Asset Pointer Address \n",
    " - the folder is as **partial-mirro** of output/image/\n",
    " - whenever we are going to publish the blog : use the **fast-publish.py**\n",
    "\n",
    "```shell\n",
    "# pub the image\n",
    "cp -R notebook/RL/image output/image/\n",
    "\n",
    "# pub the articles\n",
    "cp notebook/RL/RL-01-MDP.ipynb \n",
    "```"
   ]
  },
  {
   "cell_type": "code",
   "execution_count": 19,
   "metadata": {
    "collapsed": false
   },
   "outputs": [
    {
     "name": "stdout",
     "output_type": "stream",
     "text": [
      "1\n",
      "0\n",
      "0\n",
      "1\n"
     ]
    }
   ],
   "source": [
    "import re\n",
    "\n",
    "aa = ['RL-01-1341','RL--daf',  'RL-99-ADFd_dferq-0123','RL-01-0-dfda.jpg']\n",
    "\n",
    "for i in aa :\n",
    "    if re.match(r'{}-*[0-9]-*?'.format('RL-01') , i):\n",
    "        print 1 \n",
    "    else : print 0"
   ]
  },
  {
   "cell_type": "code",
   "execution_count": 24,
   "metadata": {
    "collapsed": false
   },
   "outputs": [
    {
     "name": "stdout",
     "output_type": "stream",
     "text": [
      "/tyty/rte/rtrt/rtr\n",
      "/tyty/rte/rtrt/rtr/image/dfdf.py\n"
     ]
    }
   ],
   "source": [
    "aa = '/tyty/rte/rtrt/rtr/dfre.png'\n",
    "import os\n",
    "bb = os.path.dirname(aa)\n",
    "print bb\n",
    "\n",
    "print os.path.join(bb+'/image','dfdf.py')"
   ]
  },
  {
   "cell_type": "code",
   "execution_count": 23,
   "metadata": {
    "collapsed": false
   },
   "outputs": [
    {
     "data": {
      "text/plain": [
       "['.DS_Store',\n",
       " 'MatchNetOneShotFig1.png',\n",
       " 'profile.png',\n",
       " 'UnderConstruction.png',\n",
       " 'UnderConstruction2.png']"
      ]
     },
     "execution_count": 23,
     "metadata": {},
     "output_type": "execute_result"
    }
   ],
   "source": [
    "os.path.isdir('image')\n",
    "os.listdir('image')"
   ]
  },
  {
   "cell_type": "code",
   "execution_count": null,
   "metadata": {
    "collapsed": true
   },
   "outputs": [],
   "source": []
  }
 ],
 "metadata": {
  "kernelspec": {
   "display_name": "Python 2",
   "language": "python",
   "name": "python2"
  },
  "language_info": {
   "codemirror_mode": {
    "name": "ipython",
    "version": 2
   },
   "file_extension": ".py",
   "mimetype": "text/x-python",
   "name": "python",
   "nbconvert_exporter": "python",
   "pygments_lexer": "ipython2",
   "version": "2.7.12"
  }
 },
 "nbformat": 4,
 "nbformat_minor": 2
}
