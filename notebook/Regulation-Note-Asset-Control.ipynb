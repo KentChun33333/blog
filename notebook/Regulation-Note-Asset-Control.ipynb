{
 "cells": [
  {
   "cell_type": "markdown",
   "metadata": {},
   "source": [
    "# Note-Asset Control Regulations \n",
    "\n",
    "- Note Identity Encoding Regulation : **className-xx-name.ipynb**\n",
    " - **className** should be correnspoding to content/**folderName**/\n",
    " - **xx** and **name** should be in one-to-one relation\n",
    " - **name** <font color=red>must not contain</font> ** - ** symbol\n",
    " - **xx** in [00,99] \n",
    " - where we call **<font color=blue>className-xx-name == NoteID</font>**\n",
    "\n",
    "\n",
    "- Asset Identity Encoding Regulation : **className-xx-name-yy** == **NoetID-yy**\n",
    " - **yy** in [00,99]\n",
    " - **yy** is the number on the condition of **Asset Type**, for example : \n",
    "   - RL-01-MDP-00.jpg\n",
    "   - RL-01-MDP-00.avi\n",
    " \n",
    " \n",
    "- Asset Type \n",
    " - img (jpg | png) \n",
    " - video (avi with h264 codec) better via youtube or other CDN\n",
    " - audio (mp3) better via youtube or other CDN\n",
    " \n",
    " \n",
    "- Asset Pointer Address \n",
    " - ** Assets are put in <font color=red>notebook/image</font> folder **\n",
    " - Hierachy is allowed which indicate following pair are allowed\n",
    "   - notebook/xx/noteID.ipynb\n",
    "   - notebook/image/assets\n",
    " - all the <font color=blue>image folders </font> are as **partial-mirro** of output/image/\n",
    " - whenever we are going to publish the blog\n",
    "   - 1. use the **fast-publish.py** -f notebook/noteID.ipynb \n",
    "   - 2. add ipynb-meta the **pelican content/**\n",
    "   - 3. cd output & git add -> commit -> pull -> push"
   ]
  }
 ],
 "metadata": {
  "kernelspec": {
   "display_name": "Python 2",
   "language": "python",
   "name": "python2"
  },
  "language_info": {
   "codemirror_mode": {
    "name": "ipython",
    "version": 2
   },
   "file_extension": ".py",
   "mimetype": "text/x-python",
   "name": "python",
   "nbconvert_exporter": "python",
   "pygments_lexer": "ipython2",
   "version": "2.7.12"
  }
 },
 "nbformat": 4,
 "nbformat_minor": 2
}
