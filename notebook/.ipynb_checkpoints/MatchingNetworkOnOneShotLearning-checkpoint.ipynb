{
 "cells": [
  {
   "cell_type": "markdown",
   "metadata": {},
   "source": [
    "### <span style = \"color:#DF7E22\"> Introduction </span>\n",
    "\n",
    "[Matching Networks for One Shot Learning](https://arxiv.org/pdf/1606.04080v1.pdf) is a really interesting paper. It propose a learning-architecture that hibirds unsupervised learning method to perform one-shot learning. "
   ]
  },
  {
   "cell_type": "markdown",
   "metadata": {},
   "source": [
    "- <img src=\"Img/MatchNetOneShotFig1.png\" width=\"400\" align=\"left\">"
   ]
  },
  {
   "cell_type": "markdown",
   "metadata": {
    "collapsed": true
   },
   "source": [
    "- Sequence to sequence (seq2seq) with attention[2]\n",
    "- Memory networks [29] \n",
    "- Pointer networks [27]."
   ]
  },
  {
   "cell_type": "markdown",
   "metadata": {
    "collapsed": true
   },
   "source": [
    "### <span style = \"color:#DF7E22\"> Key Words : </span>\n",
    "\n",
    "- Word2Vec\n",
    "- Embbeding \n",
    "- Auto-encoder \n",
    "- Attention Mechnism\n"
   ]
  },
  {
   "cell_type": "markdown",
   "metadata": {},
   "source": [
    "### <span style = \"color:#DF7E22\"> Math Expression : </span>\n",
    "\n",
    "- $ \\hat{y}= \\sum_{i=1}^{K} a(\\hat{x},x_{i}) y_{i} $ \n",
    "\n",
    "- where $x_{i} \\text{ and } y_{i}$ are the samples and labels from the support set $ S = \\{ (x_{i}, y_{i}) \\}_{i=1}^{K} $\n",
    "\n",
    "- a : the attention mechanism\n",
    "\n",
    "- $ a(\\hat{x},x_{i}) = e^{cosine-distance(f(\\hat{x}), g(x_{i}))}/\\sum_{j=1}^{K}e^{cosine-distance(f(\\hat{x}), g(x_{j}))}$\n",
    "\n",
    "- **f** and ** g ** are the full context embedding functions\n",
    "\n",
    "- "
   ]
  },
  {
   "cell_type": "markdown",
   "metadata": {},
   "source": [
    "### <span style = \"color:#DF7E22\"> Code Implementation: </span>\n",
    "\n",
    "\n"
   ]
  },
  {
   "cell_type": "markdown",
   "metadata": {},
   "source": [
    "### <span style = \"color:#DF7E22\"> Reference : </span>\n",
    "- [A nice blog : Word-Embbeding and Autoencoder](https://ayearofai.com/lenny-2-autoencoders-and-word-embeddings-oh-my-576403b0113a#.rcrh3ybeb)\n",
    "\n",
    "- [Blog : Tensorflow Example in Chinese Version](http://www.jeyzhang.com/tensorflow-learning-notes-3.html)\n",
    "\n",
    "- [TF-implemetation with one-shot](https://github.com/zergylord/oneshot/blob/master/match_net.py)"
   ]
  },
  {
   "cell_type": "code",
   "execution_count": null,
   "metadata": {
    "collapsed": true
   },
   "outputs": [],
   "source": []
  }
 ],
 "metadata": {
  "anaconda-cloud": {},
  "kernelspec": {
   "display_name": "Python 2",
   "language": "python",
   "name": "python2"
  },
  "language_info": {
   "codemirror_mode": {
    "name": "ipython",
    "version": 2
   },
   "file_extension": ".py",
   "mimetype": "text/x-python",
   "name": "python",
   "nbconvert_exporter": "python",
   "pygments_lexer": "ipython2",
   "version": "2.7.12"
  }
 },
 "nbformat": 4,
 "nbformat_minor": 1
}
