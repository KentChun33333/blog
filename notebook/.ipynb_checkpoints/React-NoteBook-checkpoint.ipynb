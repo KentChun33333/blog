{
 "cells": [
  {
   "cell_type": "markdown",
   "metadata": {},
   "source": [
    "# A Glance of React \n",
    "\n",
    "## <font color='blue'> Key Word List </font>\n",
    "- npm\n",
    " - npm install webpack -g :: able to use in CLI\n",
    " - npm install webpack --save-dev :: As building process dependency\n",
    " - npm install webpack --save :: As must dependency\n",
    " - using npm to trigger scripts by setting following code block in **package.json**\n",
    "  - ```\"scripts\": {\n",
    "  \"start\": \"webpack-dev-server --config webpack-dev-server.config.js --progress --inline --colors\",\n",
    "    \"build\": \"webpack --config webpack-production.config.js --progress --colors\"\n",
    "  },```\n",
    "- package.js\n",
    "- webpack [Hand Book](http://zhaoda.net/webpack-handbook/loader.html)\n",
    " - webpack loader \n",
    "  - css loader\n",
    "   - To be updated\n",
    "  - js loader\n",
    "   - ```npm install babel-loader babel-core babel-preset-es2015 webpack --save-dev```\n",
    "   - ```npm install babel-preset-react```  <font color='blue'> ( react & material-ui )</font> \n",
    "  - Plugin :\n",
    "   - HtmlWebpackPlugin [Example](https://github.com/kdchang/reactjs101/blob/master/Ch02/webpack-dev-enviroment.md)\n",
    "javascript\n",
    "   - 這邊使用 HtmlWebpackPlugin，將 bundle 好的 script 插入到 body。\\${\\__dirname} 為 ES6 語法對應到 __dirname\n",
    "     - const HtmlWebpackPlugin = require('html-webpack-plugin');\n",
    "     - const HTMLWebpackPluginConfig = new HtmlWebpackPlugin({\n",
    "     - template : \\${\\__dirname}/app/index.html,\n",
    "     - filename: 'index.html',\n",
    "     - inject: 'body',});\n",
    " - webpack config file\n",
    " - webpack dev-server\n",
    " - webpack [product-config-example](https://github.com/callemall/material-ui-webpack-example/blob/master/webpack-production.config.js)\n",
    "- babel\n",
    " - put [.babelrc](https://github.com/callemall/material-ui-webpack-example/blob/master/.babelrc) in the main folder of the project in parallel with webpack.config.js \n",
    "-  ES6 needs a babel transformation to be usable in browsers (but this has some advantages : code validation, optimisations...) and its piece of cake with browserify (which is another JS killer-feature)\n",
    " \n",
    "- material-UI & webpack \n",
    " - [Example](https://github.com/callemall/material-ui-webpack-example)\n",
    " - ** need following plugin ** for following .babelrc setting : \n",
    "  - ```{ \"presets\": [\"es2015\", \"react\", \"stage-2\"]}```\n",
    "  - need : npm install babel-preset-react\n",
    "- material-UI :: Components\n",
    " - getMuiTheme\n",
    " - DataTable : [mui-data-table](https://andela-cdaniel.github.io/mui-data-table/build/)\n",
    " - [Fixed-data-table](https://github.com/facebook/fixed-data-table/tree/master/examples)\n",
    "- material-UI :: DataTable\n",
    "***"
   ]
  },
  {
   "cell_type": "markdown",
   "metadata": {},
   "source": [
    "- react\n",
    " - import class \n",
    " - export class/function as a components\n",
    " - compose components in to sinle root div\n",
    "- react-dom\n",
    " - while render [must have paren enclose tag](http://stackoverflow.com/questions/31284169/parse-error-adjacent-jsx-elements-must-be-wrapped-in-an-enclosing-tag)\n",
    "- react-router\n",
    "- es6\n",
    "- redux\n",
    "- restfull\n",
    "***"
   ]
  },
  {
   "cell_type": "markdown",
   "metadata": {},
   "source": [
    "- ListJS\n",
    " - \n",
    "- Djnago-React-webpack\n",
    " - [Slides](https://docs.google.com/presentation/d/1TRgDA-fImXTj88eeNW37iokt4ehuK8Q6Y-7hZnBqW4g/edit#slide=id.g1559307c6d_0_743)\n",
    " - [Nice Blog](http://owaislone.org/blog/webpack-plus-reactjs-and-django/)\n",
    " - better use [django-webpack-loader](https://github.com/owais/django-webpack-loader)"
   ]
  },
  {
   "cell_type": "markdown",
   "metadata": {},
   "source": [
    "## <font color='blue'> Fast Review </font> \n",
    "- [Javascript](http://weizhifeng.net/javascript-the-core.html)\n",
    "- [CSS]\n",
    "- [HTML]\n",
    "- [javascript -> ....  -> ES6]\n"
   ]
  },
  {
   "cell_type": "markdown",
   "metadata": {},
   "source": [
    "## <font color='blue'> React Components </font>\n",
    "\n",
    "- [React 4 ways to ajax](http://andrewhfarmer.com/react-ajax-best-practices/)\n",
    "- [DataTable in React](https://react.rocks/tag/DataTable)\n",
    "- [React-developing-env](https://hackernoon.com/simple-react-development-in-2017-113bd563691f)"
   ]
  },
  {
   "cell_type": "markdown",
   "metadata": {
    "collapsed": true
   },
   "source": []
  }
 ],
 "metadata": {
  "anaconda-cloud": {},
  "kernelspec": {
   "display_name": "Python 2",
   "language": "python",
   "name": "python2"
  },
  "language_info": {
   "codemirror_mode": {
    "name": "ipython",
    "version": 2
   },
   "file_extension": ".py",
   "mimetype": "text/x-python",
   "name": "python",
   "nbconvert_exporter": "python",
   "pygments_lexer": "ipython2",
   "version": "2.7.12"
  }
 },
 "nbformat": 4,
 "nbformat_minor": 2
}
