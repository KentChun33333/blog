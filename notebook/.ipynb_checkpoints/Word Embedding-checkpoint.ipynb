{
 "cells": [
  {
   "cell_type": "markdown",
   "metadata": {},
   "source": [
    "# Word Embedding "
   ]
  },
  {
   "cell_type": "markdown",
   "metadata": {},
   "source": [
    "### <span style = \"color:#DF7E22\"> Core Concept : </span>\n",
    "\n",
    "- Embedding is to transformn from the **<span style=\"color:blue\">Sparse</span>** representations to a **<span style=\"color:blue\">Higher density</span>** representations that contain **<span style=\"color:blue\">More solid context-information</span>** in a **<span style=\"color:blue\">Vectors space</span>**. \n",
    "\n",
    "- The original ideal is to solve the sparse representation that we used one-hot vector to represent each word in the Natural Language Process (NPL-domain)\n",
    "\n",
    "- This tech is a kind of alternative with **<span style=\"color:blue\">Autoencoder</span>** \n",
    "\n"
   ]
  },
  {
   "cell_type": "markdown",
   "metadata": {},
   "source": [
    "###  <span style = \"color:#DF7E22\">Key Words :</span>\n",
    "\n",
    "- Continuous Bag of Words (CBOW)\n",
    "- The Skip-Gram \n",
    "- Hierachical Softmax : For Fast Computer with O[log(M)] where M is the population/vocabulary \n",
    " - Binary Tree \n",
    "- Noise Contrastive Estimation (An alternative to the Hierachical Softmax) \n",
    " - NCE loss "
   ]
  },
  {
   "cell_type": "markdown",
   "metadata": {},
   "source": [
    "###  <span style = \"color:#DF7E22\">Math Interpretation : </span>\n"
   ]
  },
  {
   "cell_type": "markdown",
   "metadata": {},
   "source": [
    "Skip Gram Model \n",
    "\n",
    "$\n",
    " \n",
    "$"
   ]
  },
  {
   "cell_type": "markdown",
   "metadata": {},
   "source": [
    "###  <span style = \"color:#DF7E22\">Code Implementation : </span>\n"
   ]
  },
  {
   "cell_type": "markdown",
   "metadata": {},
   "source": [
    "###  <span style = \"color:#DF7E22\">Reference : </span>\n",
    "\n",
    "- [A nice blog : Word-Embbeding and Autoencoder](https://ayearofai.com/lenny-2-autoencoders-and-word-embeddings-oh-my-576403b0113a#.rcrh3ybeb)\n",
    "\n",
    "- [Tensorflow tutorials](https://www.tensorflow.org/versions/r0.12/tutorials/word2vec/index.html)\n",
    "\n",
    "- [TF tutirial in chinese](http://www.jeyzhang.com/tensorflow-learning-notes-3.html)\n",
    "\n",
    "- [A nice script that implement embedding with Skip-gram and COBV with hierachical softmax](https://github.com/deborausujono/word2vecpy/blob/master/word2vec.py)"
   ]
  },
  {
   "cell_type": "code",
   "execution_count": null,
   "metadata": {
    "collapsed": true
   },
   "outputs": [],
   "source": []
  }
 ],
 "metadata": {
  "kernelspec": {
   "display_name": "Python 2",
   "language": "python",
   "name": "python2"
  },
  "language_info": {
   "codemirror_mode": {
    "name": "ipython",
    "version": 2
   },
   "file_extension": ".py",
   "mimetype": "text/x-python",
   "name": "python",
   "nbconvert_exporter": "python",
   "pygments_lexer": "ipython2",
   "version": "2.7.12"
  }
 },
 "nbformat": 4,
 "nbformat_minor": 0
}
