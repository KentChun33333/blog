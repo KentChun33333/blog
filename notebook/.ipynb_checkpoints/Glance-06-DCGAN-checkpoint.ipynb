{
 "cells": [
  {
   "cell_type": "markdown",
   "metadata": {},
   "source": [
    " # Deep Convolutional Generative Adversarial Networks\n",
    " \n",
    " ### Brief Description\n",
    "- Deep Convolutional Generative Adversarial Networks (DCGAN) is using CNN to perform GAN on Image Generation or Any continous data domain. \n",
    "- Currently, people use it to generate sentence, but suffer the discrete problem while generation.\n",
    "- The Key to undersatand DCGAN is to understand the Genrative Adversarial Networks.\n"
   ]
  },
  {
   "cell_type": "markdown",
   "metadata": {},
   "source": [
    "# Generative Adversarial Net (GAN) \n",
    "\n",
    "## Basic Element \n",
    "#### 1. Discriminator-Net (like Critic-Net in A3C)\n",
    "\n",
    "- Denote as : $D(X)$ where $X \\text{ is dataset } : \\text{real image + fake-image by G(Z)}$\n",
    " \n",
    "- Objective of D(X)\n",
    " - Denote as $\\text{D_loss}$ \n",
    " - $\\text{max}_{D} E[ log(D(X_{\\text{real image}})] + E[1-log(D(G(Z))] $\n",
    " - D_score = 1 if X is from real-data, really low-value but not 0 if it is a fake-image \n",
    "\n",
    "#### 2. Generator-Net (like Actor-Net in A3C)\n",
    "\n",
    "- Denote as : G(Z) where Z = np.random.ranint(-1, 1, dim=(any-thing))\n",
    " \n",
    "- Objective of G(Z)\n",
    " - G_loss = **D_score** \n",
    " - The goal of G(Z) is to cheat on D(X), to let E[1-log(D_score(G(Z))]\n",
    " ---"
   ]
  },
  {
   "cell_type": "code",
   "execution_count": null,
   "metadata": {
    "collapsed": true
   },
   "outputs": [],
   "source": [
    "import tensorflow as tf \n",
    "\n",
    "class GeneratorNet:\n",
    "    def __init__(self):\n",
    "        self.forward=False # Faslse for training mode, due to some ops are train-only\n",
    "    \n",
    "    def build():\n",
    "        pass\n",
    "    \n",
    "        \n",
    "class DiscriminatorNet:\n",
    "    def __init__():\n",
    "        raise NotImplementedError()\n",
    "        \n",
    "class AdverarialTrainer:\n",
    "    def __init__():\n",
    "        raise NotImplementedError()\n",
    "        \n"
   ]
  },
  {
   "cell_type": "markdown",
   "metadata": {},
   "source": [
    "## Training Method\n",
    "<img src='image/Glance-06-DCGAN-00.png' />\n",
    "\n",
    "- Min-Max \n",
    " - $ \\text{min}_{G} \\text{max}_{D} E[ log(D(X_{\\text{real image}})] + E[1-log(D(G(Z))]  $\n",
    "\n",
    "\n",
    "## Training Trick\n",
    "- [Good Article](https://github.com/soumith/ganhacks)"
   ]
  },
  {
   "cell_type": "markdown",
   "metadata": {},
   "source": [
    "<img src='image/Glance-06-DCGAN-01.png' />"
   ]
  },
  {
   "cell_type": "markdown",
   "metadata": {},
   "source": [
    "There are other ways to train generative models with deep learning, like Variational Autoencoders (VAEs). In this post we’ll only focus on Generative Adversarial Nets (GANs)."
   ]
  },
  {
   "cell_type": "code",
   "execution_count": 9,
   "metadata": {
    "collapsed": false
   },
   "outputs": [
    {
     "name": "stdout",
     "output_type": "stream",
     "text": [
      "[-0.81272451  0.99729157  0.89747185  0.75653547 -0.37808264]\n"
     ]
    }
   ],
   "source": [
    "import numpy as np\n",
    "import pandas as pd\n",
    "import tensorflow as tf\n",
    "\n",
    "# to assert the distribution dimension and boundary is enough. \n",
    "z = np.random.uniform(-1, 1, 5)\n",
    "print (z)\n"
   ]
  },
  {
   "cell_type": "markdown",
   "metadata": {},
   "source": [
    "### Discriminator Network Like Critics in Actor-Critc Network\n",
    "\n",
    "The discriminator network D(x)takes some image x on input and returns the probability that the image x was sampled from pdata. \n",
    "\n",
    "The discriminator should return a value closer to 1 when the image is from pdata and a value closer to 0 when the image is fake, like an image sampled from pg. \n",
    "\n",
    "In DCGANs, D(x)is a traditional convolutional network.\n",
    "\n",
    "$ \\sum{x=y+1}$\n",
    "\n",
    "Training Pair of D(x) :\n",
    "1. Real Data => target = 1\n",
    "2. Fake Data => target = 0 \n",
    "\n"
   ]
  },
  {
   "cell_type": "markdown",
   "metadata": {},
   "source": [
    "### Training Stratgy \n",
    "Now that we have defined \n",
    "\n",
    "- G(z): z(vector) -> img[64x64x3] =>| D(x): img[64x64x3] --> 0~1(T/F) \n",
    "- .................Real Data Pool =>| \n",
    "                \n",
    "and have seen how powerful the formulation is, how do we train it? We have a lot of latent variables (or parameters in approximator or network) that we need to find.This is where using adversarial networks comes in.\n",
    "\n",
    "First let’s define some notation. Let the (unknown) probability distribution of our data be pdata. \n",
    "\n",
    "Also we can interpret G(z)(where z∼pz) as drawing samples from a probability distribution, let’s call it the generative probability distribution, pg."
   ]
  },
  {
   "cell_type": "markdown",
   "metadata": {},
   "source": [
    "### Reference\n",
    "[Main Blog : Deep Completion ](https://bamos.github.io/2016/08/09/deep-completion/#step-2-quickly-generating-fake-images)\n"
   ]
  },
  {
   "cell_type": "code",
   "execution_count": 10,
   "metadata": {
    "collapsed": false
   },
   "outputs": [
    {
     "data": {
      "text/html": [
       "<script>\n",
       "code_show=true;\n",
       "\n",
       "function code_toggle() {\n",
       "  if (code_show){\n",
       "    $('div.input').hide();\n",
       "    $('div.prompt').hide();\n",
       "  }\n",
       "  else {\n",
       "    $('div.prompt').show();\n",
       "    $('div.input').show();\n",
       "    } code_show = !code_show ;\n",
       "\n",
       "}\n",
       "\n",
       "$( document ).ready(code_toggle);\n",
       "</script>\n",
       "\n",
       "<style>\n",
       "input {\n",
       "    width : 100%;\n",
       "    background-color: gray;\n",
       "    border: none;\n",
       "    color: white;\n",
       "    padding: 1px 1px;\n",
       "    text-decoration: none;\n",
       "    margin: 1px 1px;\n",
       "    cursor: pointer;\n",
       "}\n",
       "</style>\n",
       "\n",
       "<form action=\"javascript:code_toggle()\">\n",
       "  <input type=\"submit\" value=\"toggle on/off\">\n",
       "</form>"
      ],
      "text/plain": [
       "<IPython.core.display.HTML object>"
      ]
     },
     "execution_count": 10,
     "metadata": {},
     "output_type": "execute_result"
    }
   ],
   "source": [
    "from IPython.display import HTML\n",
    "\n",
    "HTML('''<script>\n",
    "code_show=true;\n",
    "\n",
    "function code_toggle() {\n",
    "  if (code_show){\n",
    "    $('div.input').hide();\n",
    "    $('div.prompt').hide();\n",
    "  }\n",
    "  else {\n",
    "    $('div.prompt').show();\n",
    "    $('div.input').show();\n",
    "    } code_show = !code_show ;\n",
    "\n",
    "}\n",
    "\n",
    "$( document ).ready(code_toggle);\n",
    "</script>\n",
    "\n",
    "<style>\n",
    "input {\n",
    "    width : 100%;\n",
    "    background-color: gray;\n",
    "    border: none;\n",
    "    color: white;\n",
    "    padding: 1px 1px;\n",
    "    text-decoration: none;\n",
    "    margin: 1px 1px;\n",
    "    cursor: pointer;\n",
    "}\n",
    "</style>\n",
    "\n",
    "<form action=\"javascript:code_toggle()\">\n",
    "  <input type=\"submit\" value=\"toggle on/off\">\n",
    "</form>''')\n",
    "\n",
    "\n",
    "#### <font color='#126DCE'> </font> color code for gray3"
   ]
  }
 ],
 "metadata": {
  "anaconda-cloud": {},
  "kernelspec": {
   "display_name": "Python [conda root]",
   "language": "python",
   "name": "conda-root-py"
  },
  "language_info": {
   "codemirror_mode": {
    "name": "ipython",
    "version": 3
   },
   "file_extension": ".py",
   "mimetype": "text/x-python",
   "name": "python",
   "nbconvert_exporter": "python",
   "pygments_lexer": "ipython3",
   "version": "3.5.2"
  },
  "nbpresent": {
   "slides": {
    "12d0bde8-8f90-4930-8687-94740ff533fd": {
     "id": "12d0bde8-8f90-4930-8687-94740ff533fd",
     "prev": null,
     "regions": {
      "2692aa2e-aa08-49a4-b07e-352f25bdb3f0": {
       "attrs": {
        "height": 0.8,
        "width": 0.8,
        "x": 0.1,
        "y": 0.1
       },
       "content": {
        "cell": "15e7c3e9-25e6-4cd5-8dd6-ae6383d0403d",
        "part": "whole"
       },
       "id": "2692aa2e-aa08-49a4-b07e-352f25bdb3f0"
      }
     }
    },
    "248bb11d-70d8-4c96-974c-b07e6bdbb65f": {
     "id": "248bb11d-70d8-4c96-974c-b07e6bdbb65f",
     "prev": "12d0bde8-8f90-4930-8687-94740ff533fd",
     "regions": {
      "a97d63cc-3f5d-4273-a4cc-ac98150322d5": {
       "attrs": {
        "height": 0.8,
        "width": 0.8,
        "x": 0.1,
        "y": 0.1
       },
       "content": {
        "cell": "4e87658f-9a67-4829-92af-d97bcef29f17",
        "part": "whole"
       },
       "id": "a97d63cc-3f5d-4273-a4cc-ac98150322d5"
      }
     }
    },
    "6dcd5d58-bac2-460a-99c7-e6b05290bd2c": {
     "id": "6dcd5d58-bac2-460a-99c7-e6b05290bd2c",
     "prev": "812c7412-61d7-40a4-9139-4f67391ad365",
     "regions": {
      "9c719330-082a-418e-a9a7-83137f31d1e5": {
       "attrs": {
        "height": 0.8,
        "width": 0.8,
        "x": 0.1,
        "y": 0.1
       },
       "content": {
        "cell": "63b3bf75-bcd9-4f24-845b-f6c03d8da2a3",
        "part": "whole"
       },
       "id": "9c719330-082a-418e-a9a7-83137f31d1e5"
      }
     }
    },
    "812c7412-61d7-40a4-9139-4f67391ad365": {
     "id": "812c7412-61d7-40a4-9139-4f67391ad365",
     "prev": "b300ee24-9644-42e6-a474-c0dc44e01670",
     "regions": {
      "53b0f5ea-5664-4e95-969f-2a5d3b66b3de": {
       "attrs": {
        "height": 0.8,
        "width": 0.8,
        "x": 0.1,
        "y": 0.1
       },
       "content": {
        "cell": "5eedbf3f-21a6-4335-8066-c83f5e5cb10c",
        "part": "whole"
       },
       "id": "53b0f5ea-5664-4e95-969f-2a5d3b66b3de"
      }
     }
    },
    "a5b2df54-3ef9-4c4e-9785-af0a25681e55": {
     "id": "a5b2df54-3ef9-4c4e-9785-af0a25681e55",
     "prev": "ffe03536-7fb8-45c5-b913-fba8df636be0",
     "regions": {
      "6abefa77-57a8-401e-9260-f4cddbe7827f": {
       "attrs": {
        "height": 0.8,
        "width": 0.8,
        "x": 0.1,
        "y": 0.1
       },
       "content": {
        "cell": "0aebee74-ebd8-4fe7-98ff-995070e1e8d8",
        "part": "whole"
       },
       "id": "6abefa77-57a8-401e-9260-f4cddbe7827f"
      }
     }
    },
    "b300ee24-9644-42e6-a474-c0dc44e01670": {
     "id": "b300ee24-9644-42e6-a474-c0dc44e01670",
     "prev": "248bb11d-70d8-4c96-974c-b07e6bdbb65f",
     "regions": {
      "5a2b6e7c-3908-462e-87b7-acaf9861d1d6": {
       "attrs": {
        "height": 0.8,
        "width": 0.8,
        "x": 0.1,
        "y": 0.1
       },
       "content": {
        "cell": "d688a94d-6083-4a93-84ed-75389cf6dd21",
        "part": "whole"
       },
       "id": "5a2b6e7c-3908-462e-87b7-acaf9861d1d6"
      }
     }
    },
    "ffe03536-7fb8-45c5-b913-fba8df636be0": {
     "id": "ffe03536-7fb8-45c5-b913-fba8df636be0",
     "prev": "6dcd5d58-bac2-460a-99c7-e6b05290bd2c",
     "regions": {
      "168cf95f-1bba-4a9b-a527-fed869c32253": {
       "attrs": {
        "height": 0.8,
        "width": 0.8,
        "x": 0.1,
        "y": 0.1
       },
       "content": {
        "cell": "c085fbdc-b437-4994-839f-43c36ce66ee3",
        "part": "whole"
       },
       "id": "168cf95f-1bba-4a9b-a527-fed869c32253"
      }
     }
    }
   },
   "themes": {
    "default": "ec6d515d-c5bf-40c0-8bfb-4b0a113389e7",
    "theme": {
     "66934c47-260e-42b2-b0e8-6a021430ab5c": {
      "backgrounds": {
       "backgroundColor": {
        "background-color": "backgroundColor",
        "id": "backgroundColor"
       }
      },
      "id": "66934c47-260e-42b2-b0e8-6a021430ab5c",
      "palette": {
       "backgroundColor": {
        "id": "backgroundColor",
        "rgb": [
         256,
         256,
         256
        ]
       },
       "headingColor": {
        "id": "headingColor",
        "rgb": [
         0,
         0,
         0
        ]
       },
       "linkColor": {
        "id": "linkColor",
        "rgb": [
         0,
         0,
         139
        ]
       },
       "mainColor": {
        "id": "mainColor",
        "rgb": [
         0,
         0,
         0
        ]
       }
      },
      "rules": {
       "a": {
        "color": "linkColor"
       },
       "h1": {
        "color": "headingColor",
        "font-family": "News Cycle",
        "font-size": 7
       },
       "h2": {
        "color": "headingColor",
        "font-family": "News Cycle",
        "font-size": 5
       },
       "h3": {
        "color": "headingColor",
        "font-family": "News Cycle",
        "font-size": 3.75
       },
       "h4": {
        "color": "headingColor",
        "font-family": "News Cycle",
        "font-size": 3
       },
       "h5": {
        "color": "headingColor",
        "font-family": "News Cycle"
       },
       "h6": {
        "color": "headingColor",
        "font-family": "News Cycle"
       },
       "h7": {
        "color": "headingColor",
        "font-family": "News Cycle"
       },
       "li": {
        "color": "mainColor",
        "font-family": "Lato",
        "font-size": 5
       },
       "p": {
        "color": "mainColor",
        "font-family": "Lato",
        "font-size": 5
       }
      },
      "text-base": {
       "color": "mainColor",
       "font-family": "Lato",
       "font-size": 5
      }
     },
     "8ebea278-1267-496a-a286-26c1f7f2548b": {
      "backgrounds": {
       "backgroundColor": {
        "background-color": "backgroundColor",
        "id": "backgroundColor"
       }
      },
      "id": "8ebea278-1267-496a-a286-26c1f7f2548b",
      "palette": {
       "backgroundColor": {
        "id": "backgroundColor",
        "rgb": [
         17,
         17,
         17
        ]
       },
       "headingColor": {
        "id": "headingColor",
        "rgb": [
         238,
         238,
         238
        ]
       },
       "linkColor": {
        "id": "linkColor",
        "rgb": [
         231,
         173,
         82
        ]
       },
       "mainColor": {
        "id": "mainColor",
        "rgb": [
         238,
         238,
         238
        ]
       }
      },
      "rules": {
       "a": {
        "color": "linkColor"
       },
       "h1": {
        "color": "headingColor",
        "font-family": "Montserrat",
        "font-size": 7
       },
       "h2": {
        "color": "headingColor",
        "font-family": "Montserrat",
        "font-size": 5
       },
       "h3": {
        "color": "headingColor",
        "font-family": "Montserrat",
        "font-size": 3.75
       },
       "h4": {
        "color": "headingColor",
        "font-family": "Montserrat",
        "font-size": 3
       },
       "h5": {
        "color": "headingColor",
        "font-family": "Montserrat"
       },
       "h6": {
        "color": "headingColor",
        "font-family": "Montserrat"
       },
       "h7": {
        "color": "headingColor",
        "font-family": "Montserrat"
       },
       "li": {
        "color": "mainColor",
        "font-family": "Open Sans",
        "font-size": 4
       },
       "p": {
        "color": "mainColor",
        "font-family": "Open Sans",
        "font-size": 4
       }
      },
      "text-base": {
       "color": "mainColor",
       "font-family": "Open Sans",
       "font-size": 4
      }
     },
     "ec6d515d-c5bf-40c0-8bfb-4b0a113389e7": {
      "id": "ec6d515d-c5bf-40c0-8bfb-4b0a113389e7",
      "palette": {
       "19cc588f-0593-49c9-9f4b-e4d7cc113b1c": {
        "id": "19cc588f-0593-49c9-9f4b-e4d7cc113b1c",
        "rgb": [
         252,
         252,
         252
        ]
       },
       "31af15d2-7e15-44c5-ab5e-e04b16a89eff": {
        "id": "31af15d2-7e15-44c5-ab5e-e04b16a89eff",
        "rgb": [
         68,
         68,
         68
        ]
       },
       "50f92c45-a630-455b-aec3-788680ec7410": {
        "id": "50f92c45-a630-455b-aec3-788680ec7410",
        "rgb": [
         155,
         177,
         192
        ]
       },
       "c5cc3653-2ee1-402a-aba2-7caae1da4f6c": {
        "id": "c5cc3653-2ee1-402a-aba2-7caae1da4f6c",
        "rgb": [
         43,
         126,
         184
        ]
       },
       "efa7f048-9acb-414c-8b04-a26811511a21": {
        "id": "efa7f048-9acb-414c-8b04-a26811511a21",
        "rgb": [
         25.118061674008803,
         73.60176211453744,
         107.4819383259912
        ]
       }
      },
      "rules": {
       "blockquote": {
        "color": "50f92c45-a630-455b-aec3-788680ec7410"
       },
       "code": {
        "font-family": "Anonymous Pro"
       },
       "h1": {
        "color": "c5cc3653-2ee1-402a-aba2-7caae1da4f6c",
        "font-family": "Lato",
        "font-size": 8
       },
       "h2": {
        "color": "c5cc3653-2ee1-402a-aba2-7caae1da4f6c",
        "font-family": "Lato",
        "font-size": 6
       },
       "h3": {
        "color": "50f92c45-a630-455b-aec3-788680ec7410",
        "font-family": "Lato",
        "font-size": 5.5
       },
       "h4": {
        "color": "c5cc3653-2ee1-402a-aba2-7caae1da4f6c",
        "font-family": "Lato",
        "font-size": 5
       },
       "h5": {
        "font-family": "Lato"
       },
       "h6": {
        "font-family": "Lato"
       },
       "h7": {
        "font-family": "Lato"
       },
       "pre": {
        "font-family": "Anonymous Pro",
        "font-size": 4
       }
      },
      "text-base": {
       "font-family": "Merriweather",
       "font-size": 4
      }
     }
    }
   }
  }
 },
 "nbformat": 4,
 "nbformat_minor": 1
}
