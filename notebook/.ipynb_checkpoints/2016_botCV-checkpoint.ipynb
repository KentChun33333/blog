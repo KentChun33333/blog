{
 "cells": [
  {
   "cell_type": "markdown",
   "metadata": {},
   "source": [
    "# 2016 bot CV recording\n",
    "\n",
    "### Testing Script : \n",
    "- 2016_bot_0001.py (work)\n",
    "- 2016_bot_0002.py\n",
    "- 2016_bot_0003.py\n",
    "- 2016_bot_0004.py (work)\n",
    "- 2016_bot_0005.py (work)\n",
    "\n",
    "### Data Handling Script:\n",
    "- 2016_bot_h5Gen.py (notice the image_128.h5 is trucated by 6000 images per class\n",
    "- 2016_bot_submit.py \n",
    "\n",
    "### Hub\n",
    "- Model\n",
    " - 2016_bot_0004.json\n",
    " - 2016_bot_0004.h5 (Weight)\n",
    "- image_48.h5 (not good in performance)\n",
    "- image_64.h5 (so so in performance)\n",
    "- image_92.h5 (truncated by 6000 images per class)\n",
    "- image_128.h5 (truncated by 6000 images per class)\n",
    "\n",
    "### Reflection \n",
    "- it is really important to slice the data and rescale the data, depend on the target solution, we need highly different data resolution. \n",
    "- Target drives data\n",
    "- Data drives model\n",
    "- Model drives strategies \n",
    "- Strategy drives decision."
   ]
  },
  {
   "cell_type": "code",
   "execution_count": null,
   "metadata": {
    "collapsed": true
   },
   "outputs": [],
   "source": [
    "# 0004 \n",
    "img_rows= 64\n",
    "\n",
    "img_cols= 64\n",
    "\n",
    "img_channels=3\n",
    "\n",
    "def easyVGG(img_rows,img_cols,weights_path=None):\n",
    "    model = Sequential()\n",
    "    model.add(ZeroPadding2D((1,1),input_shape=(3,img_rows,img_cols)))\n",
    "    model.add(Convolution2D(32, 3, 3))\n",
    "    model.add(MaxPooling2D((3,3), strides=(2,2)))\n",
    "\n",
    "    model.add(Convolution2D(64, 3, 3))\n",
    "    model.add(MaxPooling2D((3,3), strides=(2,2)))\n",
    "\n",
    "    model.add(Flatten())\n",
    "    model.add(Dense(1200, activation='relu'))\n",
    "    model.add(Dropout(0.5))\n",
    "    model.add(Dense(1200, activation='relu'))\n",
    "    model.add(Dense(12, activation='softmax'))\n",
    "    if weights_path:\n",
    "        try :\n",
    "            model.load_weights(weights_path)\n",
    "            print ('loaded weight')\n",
    "        except:\n",
    "            pass\n",
    "\n",
    "    return model"
   ]
  },
  {
   "cell_type": "markdown",
   "metadata": {},
   "source": [
    "####\n",
    "- Small Data Set Pretraining \n",
    "- VGG16 training "
   ]
  }
 ],
 "metadata": {
  "anaconda-cloud": {},
  "kernelspec": {
   "display_name": "Python [Root]",
   "language": "python",
   "name": "Python [Root]"
  },
  "language_info": {
   "codemirror_mode": {
    "name": "ipython",
    "version": 2
   },
   "file_extension": ".py",
   "mimetype": "text/x-python",
   "name": "python",
   "nbconvert_exporter": "python",
   "pygments_lexer": "ipython2",
   "version": "2.7.12"
  }
 },
 "nbformat": 4,
 "nbformat_minor": 0
}
