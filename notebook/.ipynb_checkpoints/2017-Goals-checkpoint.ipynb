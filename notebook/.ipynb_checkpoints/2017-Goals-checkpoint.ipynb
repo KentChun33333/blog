{
 "cells": [
  {
   "cell_type": "code",
   "execution_count": 1,
   "metadata": {
    "collapsed": false
   },
   "outputs": [
    {
     "data": {
      "text/html": [
       "<script> \n",
       "code_show=true;\n",
       "function code_toggle() { \n",
       "  if (code_show){\n",
       "    $('div.input').hide();\n",
       "    $('div.prompt').hide();\n",
       "  } \n",
       "  else { \n",
       "    $('div.prompt').show();\n",
       "    $('div.input').show();\n",
       "    } code_show = !code_show ;\n",
       "    \n",
       "}\n",
       "\n",
       "$( document ).ready(code_toggle);\n",
       "</script>\n",
       "<style>\n",
       "input {\n",
       "    width : 100%;\n",
       "    background-color: white;\n",
       "    border: none;\n",
       "    color: white;\n",
       "    padding: 1px 1px;\n",
       "    margin: 1px 1px;\n",
       "    cursor: pointer;\n",
       "}\n",
       "</style>\n",
       "\n",
       "<form action=\"javascript:code_toggle()\">\n",
       "  <input type=\"submit\" value=\"\">\n",
       "</form>"
      ],
      "text/plain": [
       "<IPython.core.display.HTML object>"
      ]
     },
     "execution_count": 1,
     "metadata": {},
     "output_type": "execute_result"
    }
   ],
   "source": [
    "from IPython.display import HTML\n",
    "\n",
    "HTML('''<script> \n",
    "code_show=true;\n",
    "function code_toggle() { \n",
    "  if (code_show){\n",
    "    $('div.input').hide();\n",
    "    $('div.prompt').hide();\n",
    "  } \n",
    "  else { \n",
    "    $('div.prompt').show();\n",
    "    $('div.input').show();\n",
    "    } code_show = !code_show ;\n",
    "    \n",
    "}\n",
    "\n",
    "$( document ).ready(code_toggle);\n",
    "</script>\n",
    "<style>\n",
    "input {\n",
    "    width : 100%;\n",
    "    background-color: white;\n",
    "    border: none;\n",
    "    color: white;\n",
    "    padding: 1px 1px;\n",
    "    margin: 1px 1px;\n",
    "    cursor: pointer;\n",
    "}\n",
    "</style>\n",
    "\n",
    "<form action=\"javascript:code_toggle()\">\n",
    "  <input type=\"submit\" value=\"\">\n",
    "</form>''')"
   ]
  },
  {
   "cell_type": "markdown",
   "metadata": {
    "slideshow": {
     "slide_type": "-"
    }
   },
   "source": [
    "# 2017 Plan\n",
    "- Reinforcement Learning \n",
    " - \n",
    "- Paper Reading\n",
    "- Personal AI project ( investment )\n",
    "- Data Scientist Blog Refine "
   ]
  },
  {
   "cell_type": "markdown",
   "metadata": {},
   "source": [
    "Measurement\n",
    "\n",
    "- $ \\text{EPS (Earnings Per Share) }  = \\frac{ \\text{Net Income - Divdends on Preferred Stock }}{\\text{Average Outstanding Shares}} $ \n",
    "\n",
    "- $ \\text{P/E ratio} = \\frac{\\text{Price Per Share ( Stock Price )}}{\\text{EPS}} $ "
   ]
  },
  {
   "cell_type": "code",
   "execution_count": 2,
   "metadata": {
    "collapsed": false
   },
   "outputs": [
    {
     "name": "stdout",
     "output_type": "stream",
     "text": [
      "[{'Volume': '156000', 'Symbol': '1517.TW', 'Adj_Close': '10.40', 'High': '10.45', 'Low': '10.30', 'Date': '2017-02-02', 'Close': '10.40', 'Open': '10.40'}, {'Volume': '000', 'Symbol': '1517.TW', 'Adj_Close': '10.40', 'High': '10.40', 'Low': '10.40', 'Date': '2017-02-01', 'Close': '10.40', 'Open': '10.40'}, {'Volume': '000', 'Symbol': '1517.TW', 'Adj_Close': '10.40', 'High': '10.40', 'Low': '10.40', 'Date': '2017-01-31', 'Close': '10.40', 'Open': '10.40'}, {'Volume': '000', 'Symbol': '1517.TW', 'Adj_Close': '10.40', 'High': '10.40', 'Low': '10.40', 'Date': '2017-01-30', 'Close': '10.40', 'Open': '10.40'}, {'Volume': '000', 'Symbol': '1517.TW', 'Adj_Close': '10.40', 'High': '10.40', 'Low': '10.40', 'Date': '2017-01-27', 'Close': '10.40', 'Open': '10.40'}, {'Volume': '000', 'Symbol': '1517.TW', 'Adj_Close': '10.40', 'High': '10.40', 'Low': '10.40', 'Date': '2017-01-26', 'Close': '10.40', 'Open': '10.40'}, {'Volume': '000', 'Symbol': '1517.TW', 'Adj_Close': '10.40', 'High': '10.40', 'Low': '10.40', 'Date': '2017-01-25', 'Close': '10.40', 'Open': '10.40'}, {'Volume': '255000', 'Symbol': '1517.TW', 'Adj_Close': '10.40', 'High': '10.40', 'Low': '10.30', 'Date': '2017-01-24', 'Close': '10.40', 'Open': '10.30'}, {'Volume': '129000', 'Symbol': '1517.TW', 'Adj_Close': '10.35', 'High': '10.35', 'Low': '10.30', 'Date': '2017-01-23', 'Close': '10.35', 'Open': '10.30'}, {'Volume': '109000', 'Symbol': '1517.TW', 'Adj_Close': '10.35', 'High': '10.35', 'Low': '10.25', 'Date': '2017-01-20', 'Close': '10.35', 'Open': '10.30'}, {'Volume': '85000', 'Symbol': '1517.TW', 'Adj_Close': '10.30', 'High': '10.35', 'Low': '10.25', 'Date': '2017-01-19', 'Close': '10.30', 'Open': '10.30'}, {'Volume': '199000', 'Symbol': '1517.TW', 'Adj_Close': '10.30', 'High': '10.35', 'Low': '10.30', 'Date': '2017-01-18', 'Close': '10.30', 'Open': '10.30'}, {'Volume': '271000', 'Symbol': '1517.TW', 'Adj_Close': '10.35', 'High': '10.40', 'Low': '10.25', 'Date': '2017-01-17', 'Close': '10.35', 'Open': '10.30'}, {'Volume': '169000', 'Symbol': '1517.TW', 'Adj_Close': '10.30', 'High': '10.35', 'Low': '10.25', 'Date': '2017-01-16', 'Close': '10.30', 'Open': '10.35'}, {'Volume': '68000', 'Symbol': '1517.TW', 'Adj_Close': '10.30', 'High': '10.35', 'Low': '10.30', 'Date': '2017-01-13', 'Close': '10.30', 'Open': '10.35'}, {'Volume': '137000', 'Symbol': '1517.TW', 'Adj_Close': '10.40', 'High': '10.45', 'Low': '10.35', 'Date': '2017-01-12', 'Close': '10.40', 'Open': '10.40'}, {'Volume': '45000', 'Symbol': '1517.TW', 'Adj_Close': '10.40', 'High': '10.40', 'Low': '10.30', 'Date': '2017-01-11', 'Close': '10.40', 'Open': '10.35'}, {'Volume': '108000', 'Symbol': '1517.TW', 'Adj_Close': '10.35', 'High': '10.35', 'Low': '10.25', 'Date': '2017-01-10', 'Close': '10.35', 'Open': '10.30'}, {'Volume': '71000', 'Symbol': '1517.TW', 'Adj_Close': '10.35', 'High': '10.35', 'Low': '10.30', 'Date': '2017-01-09', 'Close': '10.35', 'Open': '10.35'}, {'Volume': '88000', 'Symbol': '1517.TW', 'Adj_Close': '10.35', 'High': '10.40', 'Low': '10.35', 'Date': '2017-01-06', 'Close': '10.35', 'Open': '10.40'}, {'Volume': '362000', 'Symbol': '1517.TW', 'Adj_Close': '10.40', 'High': '10.40', 'Low': '10.30', 'Date': '2017-01-05', 'Close': '10.40', 'Open': '10.40'}, {'Volume': '148000', 'Symbol': '1517.TW', 'Adj_Close': '10.40', 'High': '10.40', 'Low': '10.25', 'Date': '2017-01-04', 'Close': '10.40', 'Open': '10.30'}, {'Volume': '98000', 'Symbol': '1517.TW', 'Adj_Close': '10.40', 'High': '10.40', 'Low': '10.30', 'Date': '2017-01-03', 'Close': '10.40', 'Open': '10.40'}, {'Volume': '000', 'Symbol': '1517.TW', 'Adj_Close': '10.40', 'High': '10.40', 'Low': '10.40', 'Date': '2017-01-02', 'Close': '10.40', 'Open': '10.40'}, {'Volume': '68000', 'Symbol': '1517.TW', 'Adj_Close': '10.40', 'High': '10.40', 'Low': '10.30', 'Date': '2016-12-30', 'Close': '10.40', 'Open': '10.35'}, {'Volume': '18000', 'Symbol': '1517.TW', 'Adj_Close': '10.35', 'High': '10.35', 'Low': '10.30', 'Date': '2016-12-29', 'Close': '10.35', 'Open': '10.30'}, {'Volume': '109000', 'Symbol': '1517.TW', 'Adj_Close': '10.35', 'High': '10.35', 'Low': '10.30', 'Date': '2016-12-28', 'Close': '10.35', 'Open': '10.30'}, {'Volume': '73000', 'Symbol': '1517.TW', 'Adj_Close': '10.30', 'High': '10.35', 'Low': '10.30', 'Date': '2016-12-27', 'Close': '10.30', 'Open': '10.35'}, {'Volume': '107000', 'Symbol': '1517.TW', 'Adj_Close': '10.35', 'High': '10.40', 'Low': '10.30', 'Date': '2016-12-26', 'Close': '10.35', 'Open': '10.35'}, {'Volume': '42000', 'Symbol': '1517.TW', 'Adj_Close': '10.35', 'High': '10.35', 'Low': '10.25', 'Date': '2016-12-23', 'Close': '10.35', 'Open': '10.25'}, {'Volume': '96000', 'Symbol': '1517.TW', 'Adj_Close': '10.25', 'High': '10.35', 'Low': '10.25', 'Date': '2016-12-22', 'Close': '10.25', 'Open': '10.25'}, {'Volume': '77000', 'Symbol': '1517.TW', 'Adj_Close': '10.35', 'High': '10.40', 'Low': '10.30', 'Date': '2016-12-21', 'Close': '10.35', 'Open': '10.35'}, {'Volume': '130000', 'Symbol': '1517.TW', 'Adj_Close': '10.35', 'High': '10.40', 'Low': '10.30', 'Date': '2016-12-20', 'Close': '10.35', 'Open': '10.35'}, {'Volume': '53000', 'Symbol': '1517.TW', 'Adj_Close': '10.30', 'High': '10.40', 'Low': '10.25', 'Date': '2016-12-19', 'Close': '10.30', 'Open': '10.25'}, {'Volume': '75000', 'Symbol': '1517.TW', 'Adj_Close': '10.30', 'High': '10.35', 'Low': '10.30', 'Date': '2016-12-16', 'Close': '10.30', 'Open': '10.35'}, {'Volume': '35000', 'Symbol': '1517.TW', 'Adj_Close': '10.35', 'High': '10.35', 'Low': '10.30', 'Date': '2016-12-15', 'Close': '10.35', 'Open': '10.30'}, {'Volume': '114000', 'Symbol': '1517.TW', 'Adj_Close': '10.30', 'High': '10.40', 'Low': '10.25', 'Date': '2016-12-14', 'Close': '10.30', 'Open': '10.30'}, {'Volume': '100000', 'Symbol': '1517.TW', 'Adj_Close': '10.35', 'High': '10.50', 'Low': '10.35', 'Date': '2016-12-13', 'Close': '10.35', 'Open': '10.50'}, {'Volume': '112000', 'Symbol': '1517.TW', 'Adj_Close': '10.50', 'High': '10.55', 'Low': '10.40', 'Date': '2016-12-12', 'Close': '10.50', 'Open': '10.55'}, {'Volume': '91000', 'Symbol': '1517.TW', 'Adj_Close': '10.55', 'High': '10.55', 'Low': '10.45', 'Date': '2016-12-09', 'Close': '10.55', 'Open': '10.50'}, {'Volume': '88000', 'Symbol': '1517.TW', 'Adj_Close': '10.50', 'High': '10.55', 'Low': '10.45', 'Date': '2016-12-08', 'Close': '10.50', 'Open': '10.55'}, {'Volume': '91000', 'Symbol': '1517.TW', 'Adj_Close': '10.50', 'High': '10.65', 'Low': '10.50', 'Date': '2016-12-07', 'Close': '10.50', 'Open': '10.60'}, {'Volume': '82000', 'Symbol': '1517.TW', 'Adj_Close': '10.60', 'High': '10.65', 'Low': '10.55', 'Date': '2016-12-06', 'Close': '10.60', 'Open': '10.60'}, {'Volume': '632000', 'Symbol': '1517.TW', 'Adj_Close': '10.60', 'High': '10.65', 'Low': '10.40', 'Date': '2016-12-05', 'Close': '10.60', 'Open': '10.40'}, {'Volume': '291000', 'Symbol': '1517.TW', 'Adj_Close': '10.35', 'High': '10.40', 'Low': '10.25', 'Date': '2016-12-02', 'Close': '10.35', 'Open': '10.30'}, {'Volume': '263000', 'Symbol': '1517.TW', 'Adj_Close': '10.30', 'High': '10.30', 'Low': '10.15', 'Date': '2016-12-01', 'Close': '10.30', 'Open': '10.20'}]\n"
     ]
    }
   ],
   "source": [
    "from yahoo_finance import Share\n",
    "import pandas as pd\n",
    "import datetime\n",
    "\n",
    "def getStock(id):\n",
    "    stock = Share(str(id)+'.TW')\n",
    "    today = datetime.date.today()\n",
    "    data = stock.get_historical('2016-12-01', str(today))\n",
    "    return data\n",
    "\n",
    "def json_to_pdtable(data):\n",
    "    data = str(data)\n",
    "    df = pd.read_json(data, orient='records')\n",
    "    return df\n",
    "\n",
    "\n",
    "data =  getStock(1517)\n",
    "print data\n",
    "\n"
   ]
  },
  {
   "cell_type": "code",
   "execution_count": 58,
   "metadata": {
    "collapsed": false
   },
   "outputs": [
    {
     "name": "stdout",
     "output_type": "stream",
     "text": [
      "['Volume', 'Symbol', 'Adj_Close', 'High', 'Low', 'Date', 'Close', 'Open']\n",
      "dict_values(['156000', '1517.TW', '10.40', '10.45', '10.30', '2017-02-02', '10.40', '10.40'])\n",
      "['Volume', 'Symbol', 'Adj_Close', 'High', 'Low', 'Date', 'Close', 'Open']\n",
      "dict_values(['000', '1517.TW', '10.40', '10.40', '10.40', '2017-02-01', '10.40', '10.40'])\n",
      "['Volume', 'Symbol', 'Adj_Close', 'High', 'Low', 'Date', 'Close', 'Open']\n",
      "dict_values(['000', '1517.TW', '10.40', '10.40', '10.40', '2017-01-31', '10.40', '10.40'])\n",
      "['Volume', 'Symbol', 'Adj_Close', 'High', 'Low', 'Date', 'Close', 'Open']\n",
      "dict_values(['000', '1517.TW', '10.40', '10.40', '10.40', '2017-01-30', '10.40', '10.40'])\n",
      "['Volume', 'Symbol', 'Adj_Close', 'High', 'Low', 'Date', 'Close', 'Open']\n",
      "dict_values(['000', '1517.TW', '10.40', '10.40', '10.40', '2017-01-27', '10.40', '10.40'])\n",
      "['Volume', 'Symbol', 'Adj_Close', 'High', 'Low', 'Date', 'Close', 'Open']\n",
      "dict_values(['000', '1517.TW', '10.40', '10.40', '10.40', '2017-01-26', '10.40', '10.40'])\n",
      "['Volume', 'Symbol', 'Adj_Close', 'High', 'Low', 'Date', 'Close', 'Open']\n",
      "dict_values(['000', '1517.TW', '10.40', '10.40', '10.40', '2017-01-25', '10.40', '10.40'])\n",
      "['Volume', 'Symbol', 'Adj_Close', 'High', 'Low', 'Date', 'Close', 'Open']\n",
      "dict_values(['255000', '1517.TW', '10.40', '10.40', '10.30', '2017-01-24', '10.40', '10.30'])\n",
      "['Volume', 'Symbol', 'Adj_Close', 'High', 'Low', 'Date', 'Close', 'Open']\n",
      "dict_values(['129000', '1517.TW', '10.35', '10.35', '10.30', '2017-01-23', '10.35', '10.30'])\n",
      "['Volume', 'Symbol', 'Adj_Close', 'High', 'Low', 'Date', 'Close', 'Open']\n",
      "dict_values(['109000', '1517.TW', '10.35', '10.35', '10.25', '2017-01-20', '10.35', '10.30'])\n",
      "['Volume', 'Symbol', 'Adj_Close', 'High', 'Low', 'Date', 'Close', 'Open']\n",
      "dict_values(['85000', '1517.TW', '10.30', '10.35', '10.25', '2017-01-19', '10.30', '10.30'])\n",
      "['Volume', 'Symbol', 'Adj_Close', 'High', 'Low', 'Date', 'Close', 'Open']\n",
      "dict_values(['199000', '1517.TW', '10.30', '10.35', '10.30', '2017-01-18', '10.30', '10.30'])\n",
      "['Volume', 'Symbol', 'Adj_Close', 'High', 'Low', 'Date', 'Close', 'Open']\n",
      "dict_values(['271000', '1517.TW', '10.35', '10.40', '10.25', '2017-01-17', '10.35', '10.30'])\n",
      "['Volume', 'Symbol', 'Adj_Close', 'High', 'Low', 'Date', 'Close', 'Open']\n",
      "dict_values(['169000', '1517.TW', '10.30', '10.35', '10.25', '2017-01-16', '10.30', '10.35'])\n",
      "['Volume', 'Symbol', 'Adj_Close', 'High', 'Low', 'Date', 'Close', 'Open']\n",
      "dict_values(['68000', '1517.TW', '10.30', '10.35', '10.30', '2017-01-13', '10.30', '10.35'])\n",
      "['Volume', 'Symbol', 'Adj_Close', 'High', 'Low', 'Date', 'Close', 'Open']\n",
      "dict_values(['137000', '1517.TW', '10.40', '10.45', '10.35', '2017-01-12', '10.40', '10.40'])\n",
      "['Volume', 'Symbol', 'Adj_Close', 'High', 'Low', 'Date', 'Close', 'Open']\n",
      "dict_values(['45000', '1517.TW', '10.40', '10.40', '10.30', '2017-01-11', '10.40', '10.35'])\n",
      "['Volume', 'Symbol', 'Adj_Close', 'High', 'Low', 'Date', 'Close', 'Open']\n",
      "dict_values(['108000', '1517.TW', '10.35', '10.35', '10.25', '2017-01-10', '10.35', '10.30'])\n",
      "['Volume', 'Symbol', 'Adj_Close', 'High', 'Low', 'Date', 'Close', 'Open']\n",
      "dict_values(['71000', '1517.TW', '10.35', '10.35', '10.30', '2017-01-09', '10.35', '10.35'])\n",
      "['Volume', 'Symbol', 'Adj_Close', 'High', 'Low', 'Date', 'Close', 'Open']\n",
      "dict_values(['88000', '1517.TW', '10.35', '10.40', '10.35', '2017-01-06', '10.35', '10.40'])\n",
      "['Volume', 'Symbol', 'Adj_Close', 'High', 'Low', 'Date', 'Close', 'Open']\n",
      "dict_values(['362000', '1517.TW', '10.40', '10.40', '10.30', '2017-01-05', '10.40', '10.40'])\n",
      "['Volume', 'Symbol', 'Adj_Close', 'High', 'Low', 'Date', 'Close', 'Open']\n",
      "dict_values(['148000', '1517.TW', '10.40', '10.40', '10.25', '2017-01-04', '10.40', '10.30'])\n",
      "['Volume', 'Symbol', 'Adj_Close', 'High', 'Low', 'Date', 'Close', 'Open']\n",
      "dict_values(['98000', '1517.TW', '10.40', '10.40', '10.30', '2017-01-03', '10.40', '10.40'])\n",
      "['Volume', 'Symbol', 'Adj_Close', 'High', 'Low', 'Date', 'Close', 'Open']\n",
      "dict_values(['000', '1517.TW', '10.40', '10.40', '10.40', '2017-01-02', '10.40', '10.40'])\n",
      "['Volume', 'Symbol', 'Adj_Close', 'High', 'Low', 'Date', 'Close', 'Open']\n",
      "dict_values(['68000', '1517.TW', '10.40', '10.40', '10.30', '2016-12-30', '10.40', '10.35'])\n",
      "['Volume', 'Symbol', 'Adj_Close', 'High', 'Low', 'Date', 'Close', 'Open']\n",
      "dict_values(['18000', '1517.TW', '10.35', '10.35', '10.30', '2016-12-29', '10.35', '10.30'])\n",
      "['Volume', 'Symbol', 'Adj_Close', 'High', 'Low', 'Date', 'Close', 'Open']\n",
      "dict_values(['109000', '1517.TW', '10.35', '10.35', '10.30', '2016-12-28', '10.35', '10.30'])\n",
      "['Volume', 'Symbol', 'Adj_Close', 'High', 'Low', 'Date', 'Close', 'Open']\n",
      "dict_values(['73000', '1517.TW', '10.30', '10.35', '10.30', '2016-12-27', '10.30', '10.35'])\n",
      "['Volume', 'Symbol', 'Adj_Close', 'High', 'Low', 'Date', 'Close', 'Open']\n",
      "dict_values(['107000', '1517.TW', '10.35', '10.40', '10.30', '2016-12-26', '10.35', '10.35'])\n",
      "['Volume', 'Symbol', 'Adj_Close', 'High', 'Low', 'Date', 'Close', 'Open']\n",
      "dict_values(['42000', '1517.TW', '10.35', '10.35', '10.25', '2016-12-23', '10.35', '10.25'])\n",
      "['Volume', 'Symbol', 'Adj_Close', 'High', 'Low', 'Date', 'Close', 'Open']\n",
      "dict_values(['96000', '1517.TW', '10.25', '10.35', '10.25', '2016-12-22', '10.25', '10.25'])\n",
      "['Volume', 'Symbol', 'Adj_Close', 'High', 'Low', 'Date', 'Close', 'Open']\n",
      "dict_values(['77000', '1517.TW', '10.35', '10.40', '10.30', '2016-12-21', '10.35', '10.35'])\n",
      "['Volume', 'Symbol', 'Adj_Close', 'High', 'Low', 'Date', 'Close', 'Open']\n",
      "dict_values(['130000', '1517.TW', '10.35', '10.40', '10.30', '2016-12-20', '10.35', '10.35'])\n",
      "['Volume', 'Symbol', 'Adj_Close', 'High', 'Low', 'Date', 'Close', 'Open']\n",
      "dict_values(['53000', '1517.TW', '10.30', '10.40', '10.25', '2016-12-19', '10.30', '10.25'])\n",
      "['Volume', 'Symbol', 'Adj_Close', 'High', 'Low', 'Date', 'Close', 'Open']\n",
      "dict_values(['75000', '1517.TW', '10.30', '10.35', '10.30', '2016-12-16', '10.30', '10.35'])\n",
      "['Volume', 'Symbol', 'Adj_Close', 'High', 'Low', 'Date', 'Close', 'Open']\n",
      "dict_values(['35000', '1517.TW', '10.35', '10.35', '10.30', '2016-12-15', '10.35', '10.30'])\n",
      "['Volume', 'Symbol', 'Adj_Close', 'High', 'Low', 'Date', 'Close', 'Open']\n",
      "dict_values(['114000', '1517.TW', '10.30', '10.40', '10.25', '2016-12-14', '10.30', '10.30'])\n",
      "['Volume', 'Symbol', 'Adj_Close', 'High', 'Low', 'Date', 'Close', 'Open']\n",
      "dict_values(['100000', '1517.TW', '10.35', '10.50', '10.35', '2016-12-13', '10.35', '10.50'])\n",
      "['Volume', 'Symbol', 'Adj_Close', 'High', 'Low', 'Date', 'Close', 'Open']\n",
      "dict_values(['112000', '1517.TW', '10.50', '10.55', '10.40', '2016-12-12', '10.50', '10.55'])\n",
      "['Volume', 'Symbol', 'Adj_Close', 'High', 'Low', 'Date', 'Close', 'Open']\n",
      "dict_values(['91000', '1517.TW', '10.55', '10.55', '10.45', '2016-12-09', '10.55', '10.50'])\n",
      "['Volume', 'Symbol', 'Adj_Close', 'High', 'Low', 'Date', 'Close', 'Open']\n",
      "dict_values(['88000', '1517.TW', '10.50', '10.55', '10.45', '2016-12-08', '10.50', '10.55'])\n",
      "['Volume', 'Symbol', 'Adj_Close', 'High', 'Low', 'Date', 'Close', 'Open']\n",
      "dict_values(['91000', '1517.TW', '10.50', '10.65', '10.50', '2016-12-07', '10.50', '10.60'])\n",
      "['Volume', 'Symbol', 'Adj_Close', 'High', 'Low', 'Date', 'Close', 'Open']\n",
      "dict_values(['82000', '1517.TW', '10.60', '10.65', '10.55', '2016-12-06', '10.60', '10.60'])\n",
      "['Volume', 'Symbol', 'Adj_Close', 'High', 'Low', 'Date', 'Close', 'Open']\n",
      "dict_values(['632000', '1517.TW', '10.60', '10.65', '10.40', '2016-12-05', '10.60', '10.40'])\n",
      "['Volume', 'Symbol', 'Adj_Close', 'High', 'Low', 'Date', 'Close', 'Open']\n",
      "dict_values(['291000', '1517.TW', '10.35', '10.40', '10.25', '2016-12-02', '10.35', '10.30'])\n",
      "['Volume', 'Symbol', 'Adj_Close', 'High', 'Low', 'Date', 'Close', 'Open']\n",
      "dict_values(['263000', '1517.TW', '10.30', '10.30', '10.15', '2016-12-01', '10.30', '10.20'])\n"
     ]
    }
   ],
   "source": [
    "for j in data :\n",
    "    print list(j) \n",
    "    print (j.viewvalues())\n",
    "b= str(data)"
   ]
  },
  {
   "cell_type": "code",
   "execution_count": 60,
   "metadata": {
    "collapsed": false
   },
   "outputs": [
    {
     "name": "stdout",
     "output_type": "stream",
     "text": [
      "{'Volume': '156000', 'Symbol': '1517.TW', 'Adj_Close': '10.40', 'High': '10.45', 'Low': '10.30', 'Date': '2017-02-02', 'Close': '10.40', 'Open': '10.40'}, {'Volume': '000', 'Symbol': '1517.TW', 'Adj_Close': '10.40', 'High': '10.40', 'Low': '10.40', 'Date': '2017-02-01', 'Close': '10.40', 'Open': '10.40'}, {'Volume': '000', 'Symbol': '1517.TW', 'Adj_Close': '10.40', 'High': '10.40', 'Low': '10.40', 'Date': '2017-01-31', 'Close': '10.40', 'Open': '10.40'}, {'Volume': '000', 'Symbol': '1517.TW', 'Adj_Close': '10.40', 'High': '10.40', 'Low': '10.40', 'Date': '2017-01-30', 'Close': '10.40', 'Open': '10.40'}, {'Volume': '000', 'Symbol': '1517.TW', 'Adj_Close': '10.40', 'High': '10.40', 'Low': '10.40', 'Date': '2017-01-27', 'Close': '10.40', 'Open': '10.40'}, {'Volume': '000', 'Symbol': '1517.TW', 'Adj_Close': '10.40', 'High': '10.40', 'Low': '10.40', 'Date': '2017-01-26', 'Close': '10.40', 'Open': '10.40'}, {'Volume': '000', 'Symbol': '1517.TW', 'Adj_Close': '10.40', 'High': '10.40', 'Low': '10.40', 'Date': '2017-01-25', 'Close': '10.40', 'Open': '10.40'}, {'Volume': '255000', 'Symbol': '1517.TW', 'Adj_Close': '10.40', 'High': '10.40', 'Low': '10.30', 'Date': '2017-01-24', 'Close': '10.40', 'Open': '10.30'}, {'Volume': '129000', 'Symbol': '1517.TW', 'Adj_Close': '10.35', 'High': '10.35', 'Low': '10.30', 'Date': '2017-01-23', 'Close': '10.35', 'Open': '10.30'}, {'Volume': '109000', 'Symbol': '1517.TW', 'Adj_Close': '10.35', 'High': '10.35', 'Low': '10.25', 'Date': '2017-01-20', 'Close': '10.35', 'Open': '10.30'}, {'Volume': '85000', 'Symbol': '1517.TW', 'Adj_Close': '10.30', 'High': '10.35', 'Low': '10.25', 'Date': '2017-01-19', 'Close': '10.30', 'Open': '10.30'}, {'Volume': '199000', 'Symbol': '1517.TW', 'Adj_Close': '10.30', 'High': '10.35', 'Low': '10.30', 'Date': '2017-01-18', 'Close': '10.30', 'Open': '10.30'}, {'Volume': '271000', 'Symbol': '1517.TW', 'Adj_Close': '10.35', 'High': '10.40', 'Low': '10.25', 'Date': '2017-01-17', 'Close': '10.35', 'Open': '10.30'}, {'Volume': '169000', 'Symbol': '1517.TW', 'Adj_Close': '10.30', 'High': '10.35', 'Low': '10.25', 'Date': '2017-01-16', 'Close': '10.30', 'Open': '10.35'}, {'Volume': '68000', 'Symbol': '1517.TW', 'Adj_Close': '10.30', 'High': '10.35', 'Low': '10.30', 'Date': '2017-01-13', 'Close': '10.30', 'Open': '10.35'}, {'Volume': '137000', 'Symbol': '1517.TW', 'Adj_Close': '10.40', 'High': '10.45', 'Low': '10.35', 'Date': '2017-01-12', 'Close': '10.40', 'Open': '10.40'}, {'Volume': '45000', 'Symbol': '1517.TW', 'Adj_Close': '10.40', 'High': '10.40', 'Low': '10.30', 'Date': '2017-01-11', 'Close': '10.40', 'Open': '10.35'}, {'Volume': '108000', 'Symbol': '1517.TW', 'Adj_Close': '10.35', 'High': '10.35', 'Low': '10.25', 'Date': '2017-01-10', 'Close': '10.35', 'Open': '10.30'}, {'Volume': '71000', 'Symbol': '1517.TW', 'Adj_Close': '10.35', 'High': '10.35', 'Low': '10.30', 'Date': '2017-01-09', 'Close': '10.35', 'Open': '10.35'}, {'Volume': '88000', 'Symbol': '1517.TW', 'Adj_Close': '10.35', 'High': '10.40', 'Low': '10.35', 'Date': '2017-01-06', 'Close': '10.35', 'Open': '10.40'}, {'Volume': '362000', 'Symbol': '1517.TW', 'Adj_Close': '10.40', 'High': '10.40', 'Low': '10.30', 'Date': '2017-01-05', 'Close': '10.40', 'Open': '10.40'}, {'Volume': '148000', 'Symbol': '1517.TW', 'Adj_Close': '10.40', 'High': '10.40', 'Low': '10.25', 'Date': '2017-01-04', 'Close': '10.40', 'Open': '10.30'}, {'Volume': '98000', 'Symbol': '1517.TW', 'Adj_Close': '10.40', 'High': '10.40', 'Low': '10.30', 'Date': '2017-01-03', 'Close': '10.40', 'Open': '10.40'}, {'Volume': '000', 'Symbol': '1517.TW', 'Adj_Close': '10.40', 'High': '10.40', 'Low': '10.40', 'Date': '2017-01-02', 'Close': '10.40', 'Open': '10.40'}, {'Volume': '68000', 'Symbol': '1517.TW', 'Adj_Close': '10.40', 'High': '10.40', 'Low': '10.30', 'Date': '2016-12-30', 'Close': '10.40', 'Open': '10.35'}, {'Volume': '18000', 'Symbol': '1517.TW', 'Adj_Close': '10.35', 'High': '10.35', 'Low': '10.30', 'Date': '2016-12-29', 'Close': '10.35', 'Open': '10.30'}, {'Volume': '109000', 'Symbol': '1517.TW', 'Adj_Close': '10.35', 'High': '10.35', 'Low': '10.30', 'Date': '2016-12-28', 'Close': '10.35', 'Open': '10.30'}, {'Volume': '73000', 'Symbol': '1517.TW', 'Adj_Close': '10.30', 'High': '10.35', 'Low': '10.30', 'Date': '2016-12-27', 'Close': '10.30', 'Open': '10.35'}, {'Volume': '107000', 'Symbol': '1517.TW', 'Adj_Close': '10.35', 'High': '10.40', 'Low': '10.30', 'Date': '2016-12-26', 'Close': '10.35', 'Open': '10.35'}, {'Volume': '42000', 'Symbol': '1517.TW', 'Adj_Close': '10.35', 'High': '10.35', 'Low': '10.25', 'Date': '2016-12-23', 'Close': '10.35', 'Open': '10.25'}, {'Volume': '96000', 'Symbol': '1517.TW', 'Adj_Close': '10.25', 'High': '10.35', 'Low': '10.25', 'Date': '2016-12-22', 'Close': '10.25', 'Open': '10.25'}, {'Volume': '77000', 'Symbol': '1517.TW', 'Adj_Close': '10.35', 'High': '10.40', 'Low': '10.30', 'Date': '2016-12-21', 'Close': '10.35', 'Open': '10.35'}, {'Volume': '130000', 'Symbol': '1517.TW', 'Adj_Close': '10.35', 'High': '10.40', 'Low': '10.30', 'Date': '2016-12-20', 'Close': '10.35', 'Open': '10.35'}, {'Volume': '53000', 'Symbol': '1517.TW', 'Adj_Close': '10.30', 'High': '10.40', 'Low': '10.25', 'Date': '2016-12-19', 'Close': '10.30', 'Open': '10.25'}, {'Volume': '75000', 'Symbol': '1517.TW', 'Adj_Close': '10.30', 'High': '10.35', 'Low': '10.30', 'Date': '2016-12-16', 'Close': '10.30', 'Open': '10.35'}, {'Volume': '35000', 'Symbol': '1517.TW', 'Adj_Close': '10.35', 'High': '10.35', 'Low': '10.30', 'Date': '2016-12-15', 'Close': '10.35', 'Open': '10.30'}, {'Volume': '114000', 'Symbol': '1517.TW', 'Adj_Close': '10.30', 'High': '10.40', 'Low': '10.25', 'Date': '2016-12-14', 'Close': '10.30', 'Open': '10.30'}, {'Volume': '100000', 'Symbol': '1517.TW', 'Adj_Close': '10.35', 'High': '10.50', 'Low': '10.35', 'Date': '2016-12-13', 'Close': '10.35', 'Open': '10.50'}, {'Volume': '112000', 'Symbol': '1517.TW', 'Adj_Close': '10.50', 'High': '10.55', 'Low': '10.40', 'Date': '2016-12-12', 'Close': '10.50', 'Open': '10.55'}, {'Volume': '91000', 'Symbol': '1517.TW', 'Adj_Close': '10.55', 'High': '10.55', 'Low': '10.45', 'Date': '2016-12-09', 'Close': '10.55', 'Open': '10.50'}, {'Volume': '88000', 'Symbol': '1517.TW', 'Adj_Close': '10.50', 'High': '10.55', 'Low': '10.45', 'Date': '2016-12-08', 'Close': '10.50', 'Open': '10.55'}, {'Volume': '91000', 'Symbol': '1517.TW', 'Adj_Close': '10.50', 'High': '10.65', 'Low': '10.50', 'Date': '2016-12-07', 'Close': '10.50', 'Open': '10.60'}, {'Volume': '82000', 'Symbol': '1517.TW', 'Adj_Close': '10.60', 'High': '10.65', 'Low': '10.55', 'Date': '2016-12-06', 'Close': '10.60', 'Open': '10.60'}, {'Volume': '632000', 'Symbol': '1517.TW', 'Adj_Close': '10.60', 'High': '10.65', 'Low': '10.40', 'Date': '2016-12-05', 'Close': '10.60', 'Open': '10.40'}, {'Volume': '291000', 'Symbol': '1517.TW', 'Adj_Close': '10.35', 'High': '10.40', 'Low': '10.25', 'Date': '2016-12-02', 'Close': '10.35', 'Open': '10.30'}, {'Volume': '263000', 'Symbol': '1517.TW', 'Adj_Close': '10.30', 'High': '10.30', 'Low': '10.15', 'Date': '2016-12-01', 'Close': '10.30', 'Open': '10.20'}\n"
     ]
    }
   ],
   "source": [
    "print b[1:-1]"
   ]
  },
  {
   "cell_type": "code",
   "execution_count": 61,
   "metadata": {
    "collapsed": false
   },
   "outputs": [
    {
     "ename": "ValueError",
     "evalue": "Expected object or value",
     "output_type": "error",
     "traceback": [
      "\u001b[0;31m---------------------------------------------------------------------------\u001b[0m",
      "\u001b[0;31mValueError\u001b[0m                                Traceback (most recent call last)",
      "\u001b[0;32m<ipython-input-61-1060a8fab5b1>\u001b[0m in \u001b[0;36m<module>\u001b[0;34m()\u001b[0m\n\u001b[0;32m----> 1\u001b[0;31m \u001b[0mdf\u001b[0m \u001b[0;34m=\u001b[0m \u001b[0mpd\u001b[0m\u001b[0;34m.\u001b[0m\u001b[0mread_json\u001b[0m\u001b[0;34m(\u001b[0m\u001b[0mb\u001b[0m\u001b[0;34m[\u001b[0m\u001b[0;36m1\u001b[0m\u001b[0;34m:\u001b[0m\u001b[0;34m-\u001b[0m\u001b[0;36m1\u001b[0m\u001b[0;34m]\u001b[0m\u001b[0;34m)\u001b[0m\u001b[0;34m\u001b[0m\u001b[0m\n\u001b[0m",
      "\u001b[0;32m/home/kent/anaconda2/lib/python2.7/site-packages/pandas/io/json.pyc\u001b[0m in \u001b[0;36mread_json\u001b[0;34m(path_or_buf, orient, typ, dtype, convert_axes, convert_dates, keep_default_dates, numpy, precise_float, date_unit)\u001b[0m\n\u001b[1;32m    209\u001b[0m         obj = FrameParser(json, orient, dtype, convert_axes, convert_dates,\n\u001b[1;32m    210\u001b[0m                           \u001b[0mkeep_default_dates\u001b[0m\u001b[0;34m,\u001b[0m \u001b[0mnumpy\u001b[0m\u001b[0;34m,\u001b[0m \u001b[0mprecise_float\u001b[0m\u001b[0;34m,\u001b[0m\u001b[0;34m\u001b[0m\u001b[0m\n\u001b[0;32m--> 211\u001b[0;31m                           date_unit).parse()\n\u001b[0m\u001b[1;32m    212\u001b[0m \u001b[0;34m\u001b[0m\u001b[0m\n\u001b[1;32m    213\u001b[0m     \u001b[0;32mif\u001b[0m \u001b[0mtyp\u001b[0m \u001b[0;34m==\u001b[0m \u001b[0;34m'series'\u001b[0m \u001b[0;32mor\u001b[0m \u001b[0mobj\u001b[0m \u001b[0;32mis\u001b[0m \u001b[0mNone\u001b[0m\u001b[0;34m:\u001b[0m\u001b[0;34m\u001b[0m\u001b[0m\n",
      "\u001b[0;32m/home/kent/anaconda2/lib/python2.7/site-packages/pandas/io/json.pyc\u001b[0m in \u001b[0;36mparse\u001b[0;34m(self)\u001b[0m\n\u001b[1;32m    277\u001b[0m \u001b[0;34m\u001b[0m\u001b[0m\n\u001b[1;32m    278\u001b[0m         \u001b[0;32melse\u001b[0m\u001b[0;34m:\u001b[0m\u001b[0;34m\u001b[0m\u001b[0m\n\u001b[0;32m--> 279\u001b[0;31m             \u001b[0mself\u001b[0m\u001b[0;34m.\u001b[0m\u001b[0m_parse_no_numpy\u001b[0m\u001b[0;34m(\u001b[0m\u001b[0;34m)\u001b[0m\u001b[0;34m\u001b[0m\u001b[0m\n\u001b[0m\u001b[1;32m    280\u001b[0m \u001b[0;34m\u001b[0m\u001b[0m\n\u001b[1;32m    281\u001b[0m         \u001b[0;32mif\u001b[0m \u001b[0mself\u001b[0m\u001b[0;34m.\u001b[0m\u001b[0mobj\u001b[0m \u001b[0;32mis\u001b[0m \u001b[0mNone\u001b[0m\u001b[0;34m:\u001b[0m\u001b[0;34m\u001b[0m\u001b[0m\n",
      "\u001b[0;32m/home/kent/anaconda2/lib/python2.7/site-packages/pandas/io/json.pyc\u001b[0m in \u001b[0;36m_parse_no_numpy\u001b[0;34m(self)\u001b[0m\n\u001b[1;32m    494\u001b[0m         \u001b[0;32mif\u001b[0m \u001b[0morient\u001b[0m \u001b[0;34m==\u001b[0m \u001b[0;34m\"columns\"\u001b[0m\u001b[0;34m:\u001b[0m\u001b[0;34m\u001b[0m\u001b[0m\n\u001b[1;32m    495\u001b[0m             self.obj = DataFrame(\n\u001b[0;32m--> 496\u001b[0;31m                 loads(json, precise_float=self.precise_float), dtype=None)\n\u001b[0m\u001b[1;32m    497\u001b[0m         \u001b[0;32melif\u001b[0m \u001b[0morient\u001b[0m \u001b[0;34m==\u001b[0m \u001b[0;34m\"split\"\u001b[0m\u001b[0;34m:\u001b[0m\u001b[0;34m\u001b[0m\u001b[0m\n\u001b[1;32m    498\u001b[0m             decoded = dict((str(k), v)\n",
      "\u001b[0;31mValueError\u001b[0m: Expected object or value"
     ]
    }
   ],
   "source": [
    "df = pd.read_json(b[1:-1])"
   ]
  },
  {
   "cell_type": "code",
   "execution_count": 47,
   "metadata": {
    "collapsed": false
   },
   "outputs": [
    {
     "name": "stdout",
     "output_type": "stream",
     "text": [
      "(ValueError('Expected object or value',), 'split')\n",
      "(ValueError('Expected object or value',), 'records')\n",
      "(ValueError('Expected object or value',), 'index')\n",
      "(ValueError('Expected object or value',), 'columns')\n",
      "(ValueError('Expected object or value',), 'values')\n"
     ]
    }
   ],
   "source": [
    "a = ('split','records','index', 'columns','values')\n",
    "\n",
    "import json\n",
    "from pandas.io.json import json_normalize\n",
    "\n",
    "\n",
    "def g(data, a):\n",
    "    df = pd.read_json(data, orient=a)\n",
    "    return df\n",
    "\n",
    "for i in a :\n",
    "    try: \n",
    "        for j in data:\n",
    "            df = g(j,a)\n",
    "    except ValueError as e:\n",
    "        print (e , i)"
   ]
  },
  {
   "cell_type": "code",
   "execution_count": 60,
   "metadata": {
    "collapsed": false
   },
   "outputs": [],
   "source": [
    "\n",
    "html = \"\"\"\n",
    "<div id=\"main\" style=\"width: 600px;height:400px;\"></div>\n",
    "\n",
    "<script type=\"text/javascript\">   \n",
    "\n",
    "//\n",
    "require.config({\n",
    "         paths:{\n",
    "            echarts: ['//cdn.bootcss.com/echarts/3.4.0/echarts.min'],\n",
    "         }\n",
    "    });\n",
    "\n",
    "//\n",
    "require(['echarts'],function(ec){\n",
    "  //\n",
    "  var myChart = ec.init(document.getElementById('main'));\n",
    "\n",
    "  //\n",
    "  var option = {\n",
    "            title: {\n",
    "                text: 'Kent'\n",
    "            },\n",
    "            tooltip: {},\n",
    "            legend: {\n",
    "                data:['销量']\n",
    "            },\n",
    "            xAxis: {\n",
    "                data: [\"衬衫\",\"羊毛衫\",\"雪纺衫\",\"裤子\",\"高跟鞋\",\"袜子\"]\n",
    "            },\n",
    "            yAxis: {},\n",
    "            series: [{\n",
    "                name: '销量',\n",
    "                type: 'bar',\n",
    "                data: [5, 20, 36, 10, 10, 20]\n",
    "            }]\n",
    "        };\n",
    "\n",
    "  //  \n",
    "  myChart.setOption(option);\n",
    "         });\n",
    "    </script>\n",
    "\"\"\""
   ]
  },
  {
   "cell_type": "code",
   "execution_count": 61,
   "metadata": {
    "collapsed": false
   },
   "outputs": [
    {
     "data": {
      "text/html": [
       "\n",
       "<div id=\"main\" style=\"width: 600px;height:400px;\"></div>\n",
       "\n",
       "<script type=\"text/javascript\">   \n",
       "\n",
       "//\n",
       "require.config({\n",
       "         paths:{\n",
       "            echarts: ['//cdn.bootcss.com/echarts/3.4.0/echarts.min'],\n",
       "         }\n",
       "    });\n",
       "\n",
       "//\n",
       "require(['echarts'],function(ec){\n",
       "  //\n",
       "  var myChart = ec.init(document.getElementById('main'));\n",
       "\n",
       "  //\n",
       "  var option = {\n",
       "            title: {\n",
       "                text: 'Kent'\n",
       "            },\n",
       "            tooltip: {},\n",
       "            legend: {\n",
       "                data:['销量']\n",
       "            },\n",
       "            xAxis: {\n",
       "                data: [\"衬衫\",\"羊毛衫\",\"雪纺衫\",\"裤子\",\"高跟鞋\",\"袜子\"]\n",
       "            },\n",
       "            yAxis: {},\n",
       "            series: [{\n",
       "                name: '销量',\n",
       "                type: 'bar',\n",
       "                data: [5, 20, 36, 10, 10, 20]\n",
       "            }]\n",
       "        };\n",
       "\n",
       "  //  \n",
       "  myChart.setOption(option);\n",
       "         });\n",
       "    </script>\n"
      ],
      "text/plain": [
       "<IPython.core.display.HTML object>"
      ]
     },
     "execution_count": 61,
     "metadata": {},
     "output_type": "execute_result"
    }
   ],
   "source": [
    "from IPython.display import HTML\n",
    "HTML(html)"
   ]
  },
  {
   "cell_type": "code",
   "execution_count": null,
   "metadata": {
    "collapsed": true
   },
   "outputs": [],
   "source": []
  }
 ],
 "metadata": {
  "anaconda-cloud": {},
  "celltoolbar": "Raw Cell Format",
  "kernelspec": {
   "display_name": "Python [default]",
   "language": "python",
   "name": "python2"
  },
  "language_info": {
   "codemirror_mode": {
    "name": "ipython",
    "version": 2
   },
   "file_extension": ".py",
   "mimetype": "text/x-python",
   "name": "python",
   "nbconvert_exporter": "python",
   "pygments_lexer": "ipython2",
   "version": "2.7.12"
  }
 },
 "nbformat": 4,
 "nbformat_minor": 2
}
